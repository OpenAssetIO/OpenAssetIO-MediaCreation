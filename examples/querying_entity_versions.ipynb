{
 "cells": [
  {
   "cell_type": "markdown",
   "id": "07297a3d-048b-496b-adb0-8fdd67316021",
   "metadata": {
    "editable": true,
    "slideshow": {
     "slide_type": ""
    },
    "tags": []
   },
   "source": [
    "# Hosts: Working with asset Versions\n",
    "\n",
    "This notebook shows how to perform common versioning-related tasks using OpenAssetIO, the OpenAssetIO-MediaCreation traits, and a supporting manager.\n",
    "\n",
    "It uses a contrived library that contains several versions of the OpenAssetIO logo."
   ]
  },
  {
   "cell_type": "markdown",
   "id": "60bd9de5-64c3-4f15-8824-ff1d94a894d7",
   "metadata": {
    "editable": true,
    "jp-MarkdownHeadingCollapsed": true,
    "slideshow": {
     "slide_type": ""
    },
    "tags": []
   },
   "source": [
    "## Setup\n",
    "\n",
    "See \"Hello OpenAssetIO\" notebook for details on how to bootstrap OpenAssetIO."
   ]
  },
  {
   "cell_type": "code",
   "execution_count": 13,
   "id": "80285f6a-8134-4055-9430-a48a5f79e7d3",
   "metadata": {
    "editable": true,
    "scrolled": true,
    "slideshow": {
     "slide_type": ""
    },
    "tags": [],
    "ExecuteTime": {
     "end_time": "2024-01-26T15:32:47.357676282Z",
     "start_time": "2024-01-26T15:32:47.317138774Z"
    }
   },
   "outputs": [],
   "source": [
    "from resources import helpers\n",
    "\n",
    "manager, context = helpers.bootstrap(\"resources/querying_entity_versions/openassetio_config.toml\")"
   ]
  },
  {
   "cell_type": "markdown",
   "id": "1a80594a-b171-49c5-8cfd-00e334759b1e",
   "metadata": {
    "editable": true,
    "slideshow": {
     "slide_type": ""
    },
    "tags": []
   },
   "source": [
    "## Getting started"
   ]
  },
  {
   "cell_type": "markdown",
   "id": "22277554-b477-4600-8c2a-90ee8d5c064e",
   "metadata": {
    "editable": true,
    "slideshow": {
     "slide_type": ""
    },
    "tags": []
   },
   "source": [
    "In this example we're going to to ask the manager about other versions of the OpenAssetIO logo contained within our sample library. \n",
    "\n",
    "We've been given a URI by a colleague, which we need to turn into a strongly-typed `EntityReference` before we can use it to query the asset management system.\n",
    "\n",
    "This process ensures that only known URIs are passed to any subsequent API calls. The `createEntityReference` method will throw if the input is not known to the manager. There are other forms with different failure behaviours if exceptions aren't your thing."
   ]
  },
  {
   "cell_type": "code",
   "execution_count": 14,
   "id": "82c3962a-27b5-4375-b4fa-dbd14dcfc93b",
   "metadata": {
    "ExecuteTime": {
     "end_time": "2024-01-26T15:32:47.359499959Z",
     "start_time": "2024-01-26T15:32:47.357981404Z"
    }
   },
   "outputs": [
    {
     "data": {
      "text/markdown": "> **Result:**\n> `<openassetio.EntityReference bal:///project_artwork/logos/openassetio>`"
     },
     "metadata": {},
     "output_type": "display_data"
    }
   ],
   "source": [
    "logo_ref = manager.createEntityReference(\"bal:///project_artwork/logos/openassetio\")\n",
    "\n",
    "helpers.display_result(repr(logo_ref))"
   ]
  },
  {
   "cell_type": "markdown",
   "id": "ec69ae04-1895-4243-a949-71360175b173",
   "metadata": {
    "editable": true,
    "slideshow": {
     "slide_type": ""
    },
    "tags": []
   },
   "source": [
    "Now we have an entity reference for our logo, we can use the API to learn more about it.\n",
    "\n",
    "Versioning information is [not part of the core API](https://github.com/OpenAssetIO/OpenAssetIO/blob/main/doc/decisions/DR017-Entity-version-queries.md) itself. MediaCreation traits that describe how we generally work with versions in the post-production industry are used as arguments to core API methods."
   ]
  },
  {
   "cell_type": "markdown",
   "id": "4348da46-9467-4734-9f96-d84e26f7c11f",
   "metadata": {
    "editable": true,
    "jp-MarkdownHeadingCollapsed": true,
    "slideshow": {
     "slide_type": ""
    },
    "tags": []
   },
   "source": [
    "## Querying an entity's version"
   ]
  },
  {
   "cell_type": "markdown",
   "id": "5e32a587-5233-441e-9b80-1b2d6d3769fb",
   "metadata": {
    "editable": true,
    "slideshow": {
     "slide_type": ""
    },
    "tags": []
   },
   "source": [
    "An entity's version can be resolved using the imaginatively named `VersionTrait` from the `lifecycle` module of the `openassetio_mediacreation` package `traits`."
   ]
  },
  {
   "cell_type": "code",
   "execution_count": 15,
   "id": "0fcf0214-2561-488a-8eee-0330ca27710d",
   "metadata": {
    "scrolled": true,
    "ExecuteTime": {
     "end_time": "2024-01-26T15:32:47.376483773Z",
     "start_time": "2024-01-26T15:32:47.361460456Z"
    }
   },
   "outputs": [],
   "source": [
    "from openassetio_mediacreation.traits.lifecycle import VersionTrait\n",
    "from openassetio.access import ResolveAccess\n",
    "\n",
    "entity_data = manager.resolve(logo_ref, {VersionTrait.kId}, ResolveAccess.kRead, context)\n",
    "\n",
    "version_trait = VersionTrait(entity_data)"
   ]
  },
  {
   "cell_type": "markdown",
   "id": "a6c4f0ff-0e5d-40b7-84d6-d46efa8cba7a",
   "metadata": {
    "editable": true,
    "slideshow": {
     "slide_type": ""
    },
    "tags": []
   },
   "source": [
    "The MediaCreation `VersionTrait` is used to wrap the generic `TraitsData` returned from `resolve` to provide accessors to the trait's properties. In this case - the entity's versioning information.\n",
    "\n",
    "This trait uses the term \"tag\" for some string that identifies the version of an entity. Using a string, rather than a number allows full flexibility in how a specific manager may wish to handle versions and dynamic \"meta-versions\".\n",
    "\n",
    "**Note: The tags themselves are specific to each manager, and are not defined by the API or the MediaCreation library. Hosts must not attempt to string munge entity references, and instead use the methods covered in this document if they wish to obtain references for specific versions. Otherwise, this defeats the function of the API as an abstraction layer.**\n",
    "\n",
    "The `specifiedTag` property holds the version tag addressed by the entity reference."
   ]
  },
  {
   "cell_type": "code",
   "execution_count": 16,
   "id": "1c0683dd-c601-41b4-a069-d5acb3c40cbf",
   "metadata": {
    "ExecuteTime": {
     "end_time": "2024-01-26T15:32:47.425958956Z",
     "start_time": "2024-01-26T15:32:47.418487961Z"
    }
   },
   "outputs": [
    {
     "data": {
      "text/markdown": "> **Result:**\n> `latest`"
     },
     "metadata": {},
     "output_type": "display_data"
    }
   ],
   "source": [
    "helpers.display_result(version_trait.getSpecifiedTag())"
   ]
  },
  {
   "cell_type": "markdown",
   "id": "17049575-fc94-4ac1-9db4-466cccbe1061",
   "metadata": {
    "editable": true,
    "slideshow": {
     "slide_type": ""
    },
    "tags": []
   },
   "source": [
    "BAL uses the `v=` query param to define versions in its references. Ours did not have one (`\"bal:///project_artwork/logos/openassetio\"`), so BAL elects to return the latest version. Again note, this is a BAL specific behaviour, other managers may handle things differently.\n",
    "\n",
    "The version trait defines that the `specifiedTag` property holds the tag that would behave in the same way when used in a subsequent query (see 'Querying a specific version' below). BAL set this to `\"latest\"`, reflecting the behaviour described above.\n",
    "\n",
    "The version trait also has a `stableTag` property. This holds the tag for the targeted entity that is guaranteed to be free of dynamic behaviour. BAL set this to `\"2\"`, the tag of the latest version at the time the query was made."
   ]
  },
  {
   "cell_type": "code",
   "execution_count": 17,
   "id": "52fe1001-166a-4356-b6ba-869e76bdd05d",
   "metadata": {
    "ExecuteTime": {
     "end_time": "2024-01-26T15:32:47.426458394Z",
     "start_time": "2024-01-26T15:32:47.418643879Z"
    }
   },
   "outputs": [
    {
     "data": {
      "text/markdown": "> **Result:**\n> `2`"
     },
     "metadata": {},
     "output_type": "display_data"
    }
   ],
   "source": [
    "helpers.display_result(version_trait.getStableTag())"
   ]
  },
  {
   "cell_type": "markdown",
   "id": "6485867c-086a-4e97-98b6-c56a08da31ef",
   "metadata": {
    "editable": true,
    "slideshow": {
     "slide_type": ""
    },
    "tags": []
   },
   "source": [
    "Note that not all managers version all entities, this trait will not be imbued to the resulting data if the queried entity is un-versioned."
   ]
  },
  {
   "cell_type": "markdown",
   "id": "802716be-296d-453a-81b2-e068e5a8fc16",
   "metadata": {
    "editable": true,
    "jp-MarkdownHeadingCollapsed": true,
    "raw_mimetype": "",
    "slideshow": {
     "slide_type": ""
    },
    "tags": []
   },
   "source": [
    "## Querying other versions"
   ]
  },
  {
   "cell_type": "markdown",
   "id": "aa250993-ba14-4e3a-be3b-3a2cc0234c30",
   "metadata": {
    "editable": true,
    "slideshow": {
     "slide_type": ""
    },
    "tags": []
   },
   "source": [
    "It was noted earlier that Hosts, generally speaking, should never \"string munge\" an existing entity reference to derive another one as this makes assumptions about how any manager may work. The composition of entity reference strings is certain to be unique to each manager and must not be relied upon. \n",
    "\n",
    "Entity references should be considered \"opaque handles\", and instead use the appropriate API methods to achieve the same end.\n",
    "\n",
    "The `EntityVersionsRelationshipSpecification` from the `specifications.lifecycle` module defines a well-known relationship trait set for querying different versions of the same entity. It is used with the `getWithRelationship` method:"
   ]
  },
  {
   "cell_type": "code",
   "execution_count": 18,
   "id": "67fe58a8-ac53-48cd-8862-0516416a8fc4",
   "metadata": {
    "editable": true,
    "slideshow": {
     "slide_type": ""
    },
    "tags": [],
    "ExecuteTime": {
     "end_time": "2024-01-26T15:32:47.474032934Z",
     "start_time": "2024-01-26T15:32:47.418729334Z"
    }
   },
   "outputs": [
    {
     "data": {
      "text/markdown": "> **Result:**\n> - `bal:///project_artwork/logos/openassetio`\n> - `bal:///project_artwork/logos/openassetio?v=2`\n> - `bal:///project_artwork/logos/openassetio?v=1`"
     },
     "metadata": {},
     "output_type": "display_data"
    }
   ],
   "source": [
    "from openassetio.access import RelationsAccess\n",
    "\n",
    "from openassetio_mediacreation.specifications.lifecycle import EntityVersionsRelationshipSpecification\n",
    "\n",
    "# Note that the relationship query methods don't yet have the same\n",
    "# convenience overloads that resolve does, and so required the use\n",
    "# of the more elaborate callback signature.\n",
    "related_refs = []\n",
    "manager.getWithRelationship(\n",
    "    [logo_ref],\n",
    "    EntityVersionsRelationshipSpecification.create().traitsData(),\n",
    "    10,\n",
    "    RelationsAccess.kRead, \n",
    "    context, \n",
    "    lambda _, pager: related_refs.extend(pager.get()), lambda _, err: print(err.message))\n",
    "\n",
    "helpers.display_result(related_refs)"
   ]
  },
  {
   "cell_type": "markdown",
   "id": "c6323964-49c3-4490-a495-f87680911072",
   "metadata": {
    "editable": true,
    "slideshow": {
     "slide_type": ""
    },
    "tags": []
   },
   "source": [
    "We now have the references for all versions of the logo. The `EntityVersionsRelationshipSpecification` allows the inclusion of dynamic \"meta-versions\", and so you can see the BAL has provided references for both the \"latest\" and stable variations of the entity references. Some asset management systems may have a whole host of dynamic references to cover concepts such as approval and other workflow related statuses.\n",
    "\n",
    "The `EntityVersionsRelationshipSpecification` also defines that versions will be ordered with the most relevant first. This is usually reverse chronological order."
   ]
  },
  {
   "cell_type": "markdown",
   "id": "78c29b77-c842-4745-8568-3402e5048185",
   "metadata": {
    "editable": true,
    "jp-MarkdownHeadingCollapsed": true,
    "slideshow": {
     "slide_type": ""
    },
    "tags": []
   },
   "source": [
    "## Querying stable versions"
   ]
  },
  {
   "cell_type": "markdown",
   "id": "bf5e5838-f5da-4334-ad5f-64e26902a503",
   "metadata": {
    "editable": true,
    "slideshow": {
     "slide_type": ""
    },
    "tags": []
   },
   "source": [
    "While powerful, dynamic versioning behaviour can be error-prone in some situations. MediaCreation also provides a specialisation of the entity versions relationship that only provides stable references - `StableEntityVersionsRelationshipSpecification` - for situations where you need to guarantee that a referenced entity will not change over time.\n",
    "\n",
    "For the curious, this extends `EntityVersionsRelationshipSpecification` with one additional trait - the `StableTrait`.\n",
    "\n",
    "If we use this, BAL will now only give us references that point to concrete versions of the logo:"
   ]
  },
  {
   "cell_type": "code",
   "execution_count": 19,
   "id": "fe115b9d-77e6-432f-ab60-aca0387e96bb",
   "metadata": {
    "editable": true,
    "slideshow": {
     "slide_type": ""
    },
    "tags": [],
    "ExecuteTime": {
     "end_time": "2024-01-26T15:32:47.474698406Z",
     "start_time": "2024-01-26T15:32:47.462602377Z"
    }
   },
   "outputs": [
    {
     "data": {
      "text/markdown": "> **Result:**\n> - `bal:///project_artwork/logos/openassetio?v=2`\n> - `bal:///project_artwork/logos/openassetio?v=1`"
     },
     "metadata": {},
     "output_type": "display_data"
    }
   ],
   "source": [
    "from openassetio.access import RelationsAccess\n",
    "\n",
    "from openassetio_mediacreation.specifications.lifecycle import StableEntityVersionsRelationshipSpecification\n",
    "\n",
    "# Note that the relationship query methods don't yet have the same\n",
    "# convenience overloads that resolve does, and so required the use\n",
    "# of the more elaborate callback signature.\n",
    "versions_refs = []\n",
    "manager.getWithRelationship(\n",
    "    [logo_ref], \n",
    "    StableEntityVersionsRelationshipSpecification.create().traitsData(), \n",
    "    10,\n",
    "    RelationsAccess.kRead, \n",
    "    context, \n",
    "    lambda _, pager: versions_refs.extend(pager.get()), lambda _, err: print(err.message))\n",
    "\n",
    "helpers.display_result(versions_refs)"
   ]
  },
  {
   "cell_type": "markdown",
   "id": "3e0314bb-41cd-4f2c-8887-82562537fba3",
   "metadata": {
    "editable": true,
    "slideshow": {
     "slide_type": ""
    },
    "tags": []
   },
   "source": [
    "Now we have these references, lets take a look at how the logo has evolved:"
   ]
  },
  {
   "cell_type": "code",
   "execution_count": 20,
   "id": "3fd0a169-f8c7-4dfd-8c03-fc92d0bf8c3f",
   "metadata": {
    "editable": true,
    "slideshow": {
     "slide_type": ""
    },
    "tags": [],
    "ExecuteTime": {
     "end_time": "2024-01-26T15:32:47.523394860Z",
     "start_time": "2024-01-26T15:32:47.462806799Z"
    }
   },
   "outputs": [
    {
     "name": "stdout",
     "output_type": "stream",
     "text": [
      "The OpenAssetIO logo (Version '2')\n"
     ]
    },
    {
     "data": {
      "text/plain": "<PIL.JpegImagePlugin.JpegImageFile image mode=L size=400x83>",
      "image/png": "[encoded data removed]",
      "image/jpeg": "[encoded data removed]"
     },
     "metadata": {},
     "output_type": "display_data"
    },
    {
     "name": "stdout",
     "output_type": "stream",
     "text": [
      "The OpenAssetIO logo (Version '1')\n"
     ]
    },
    {
     "data": {
      "text/plain": "<PIL.JpegImagePlugin.JpegImageFile image mode=L size=370x83>",
      "image/png": "[encoded data removed]",
      "image/jpeg": "[encoded data removed]"
     },
     "metadata": {},
     "output_type": "display_data"
    }
   ],
   "source": [
    "from openassetio.access import ResolveAccess\n",
    "from openassetio_mediacreation.traits.content import LocatableContentTrait\n",
    "from openassetio_mediacreation.traits.identity import DisplayNameTrait\n",
    "from openassetio_mediacreation.traits.lifecycle import VersionTrait\n",
    "\n",
    "# We can re-use the list of references to batch-resolve several traits for \n",
    "# all versions at once. This can be useful for building menus/pickers/etc...\n",
    "# Batching helps mitigate the cost of expensive database lookups that incur\n",
    "# a fixed per-call cost due to network latency\n",
    "all_versions_entity_data = manager.resolve(\n",
    "    versions_refs, \n",
    "    {LocatableContentTrait.kId, DisplayNameTrait.kId, VersionTrait.kId}, \n",
    "    ResolveAccess.kRead, context)\n",
    "\n",
    "# Display some rudimentary information about each version\n",
    "for entity_data in all_versions_entity_data:\n",
    "    name = DisplayNameTrait(entity_data).getName()\n",
    "    version_tag = VersionTrait(entity_data).getStableTag()\n",
    "    print(f\"{name} (Version '{version_tag}')\")\n",
    "    helpers.display_image(LocatableContentTrait(entity_data).getLocation())"
   ]
  },
  {
   "cell_type": "markdown",
   "id": "a05b7b25-6414-4679-8dfa-d34c0a0d24b5",
   "metadata": {
    "editable": true,
    "jp-MarkdownHeadingCollapsed": true,
    "slideshow": {
     "slide_type": ""
    },
    "tags": []
   },
   "source": [
    "## Querying a specific version"
   ]
  },
  {
   "cell_type": "markdown",
   "id": "62c0dea8-42ed-47a0-b62a-fffe552ddf05",
   "metadata": {
    "editable": true,
    "slideshow": {
     "slide_type": ""
    },
    "tags": []
   },
   "source": [
    "We can also set trait properties when we make a relationship query, and this will act as a filter. we're going to use the `getWithRelationship` method with the unversioned entity reference, to query the reference for a specific version of the entity - v1 - using a specific version tag (perhaps entered by the user or previously obtained from the `VersionTrait`)."
   ]
  },
  {
   "cell_type": "code",
   "execution_count": 21,
   "id": "fa2020ad-f6bb-458d-8ab1-8dd9b93dc1ce",
   "metadata": {
    "editable": true,
    "slideshow": {
     "slide_type": ""
    },
    "tags": [],
    "ExecuteTime": {
     "end_time": "2024-01-26T15:32:47.523925290Z",
     "start_time": "2024-01-26T15:32:47.510634889Z"
    }
   },
   "outputs": [
    {
     "data": {
      "text/markdown": "> **Result:**\n> - `bal:///project_artwork/logos/openassetio?v=1`"
     },
     "metadata": {},
     "output_type": "display_data"
    }
   ],
   "source": [
    "from openassetio.access import RelationsAccess\n",
    "\n",
    "from openassetio_mediacreation.specifications.lifecycle import EntityVersionsRelationshipSpecification\n",
    "\n",
    "# Define the relationship we wish to query, and the specific\n",
    "# tag we want to look up (using data from a previous API call\n",
    "# or specified by the end-user).\n",
    "relationship_spec = EntityVersionsRelationshipSpecification.create()\n",
    "relationship_spec.versionTrait().setSpecifiedTag(\"1\")\n",
    "\n",
    "# Note that the relationship query methods don't yet have the same\n",
    "# convenience overloads that resolve does, and so required the use\n",
    "# of the more elaborate callback signature.\n",
    "related_refs = []\n",
    "manager.getWithRelationship(\n",
    "    [logo_ref], \n",
    "    relationship_spec.traitsData(), \n",
    "    10,\n",
    "    RelationsAccess.kRead, \n",
    "    context, \n",
    "    lambda _, pager: related_refs.extend(pager.get()), lambda _, err: print(err.message))\n",
    "\n",
    "helpers.display_result(related_refs)"
   ]
  },
  {
   "cell_type": "markdown",
   "id": "6d4b2eb7-47a4-4000-808e-37018ab38b30",
   "metadata": {
    "editable": true,
    "slideshow": {
     "slide_type": ""
    },
    "tags": []
   },
   "source": [
    "We now have a reference to the specific version, without needing to know anything about how the managers entity references are formatted."
   ]
  },
  {
   "cell_type": "markdown",
   "id": "7aeaf557-955b-48b3-b9f9-0edb2bf2512e",
   "metadata": {
    "jp-MarkdownHeadingCollapsed": true
   },
   "source": [
    "## Obtaining a stable reference"
   ]
  },
  {
   "cell_type": "markdown",
   "id": "b54e1a8c-5ced-4133-b464-a38fa31e765f",
   "metadata": {},
   "source": [
    "As we saw earlier, some asset management systems may make use of dynamic behaviour, such as a \"latest\" version. If you desire to persist an entity reference as it stands at any given point in time, you can query the `StableReferenceRelationshipSpecification`from the `specifications.lifecycle` module. This only ever returns a single entity reference, that is guaranteed to be free from any dynamic behaviour. This can be useful if you need to persist a reference and guarantee the referenced entity won't change over time."
   ]
  },
  {
   "cell_type": "code",
   "execution_count": 22,
   "id": "c65a49f4-17ef-469f-ac13-1e4baf02779b",
   "metadata": {
    "ExecuteTime": {
     "end_time": "2024-01-26T15:32:47.567365618Z",
     "start_time": "2024-01-26T15:32:47.510755525Z"
    }
   },
   "outputs": [
    {
     "data": {
      "text/markdown": "> **Result:**\n> - `bal:///project_artwork/logos/openassetio?v=2`"
     },
     "metadata": {},
     "output_type": "display_data"
    }
   ],
   "source": [
    "from openassetio.access import RelationsAccess\n",
    "\n",
    "from openassetio_mediacreation.specifications.lifecycle import StableReferenceRelationshipSpecification\n",
    "\n",
    "# Note that the relationship query methods don't yet have the same\n",
    "# convenience overloads that resolve does, and so required the use\n",
    "# of the more elaborate callback signature.\n",
    "stable_refs = []\n",
    "manager.getWithRelationship(\n",
    "    [logo_ref], \n",
    "    StableReferenceRelationshipSpecification.create().traitsData(),\n",
    "    10,\n",
    "    RelationsAccess.kRead, \n",
    "    context, \n",
    "    lambda _, pager: stable_refs.extend(pager.get()), lambda _, err: print(err.message))\n",
    "\n",
    "helpers.display_result(stable_refs)"
   ]
  }
 ],
 "metadata": {
  "kernelspec": {
   "display_name": "Python 3 (ipykernel)",
   "language": "python",
   "name": "python3"
  },
  "language_info": {
   "codemirror_mode": {
    "name": "ipython",
    "version": 3
   },
   "file_extension": ".py",
   "mimetype": "text/x-python",
   "name": "python",
   "nbconvert_exporter": "python",
   "pygments_lexer": "ipython3",
   "version": "3.11.3"
  }
 },
 "nbformat": 4,
 "nbformat_minor": 5
}
