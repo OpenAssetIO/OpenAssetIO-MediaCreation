{
 "cells": [
  {
   "cell_type": "markdown",
   "id": "07297a3d-048b-496b-adb0-8fdd67316021",
   "metadata": {
    "editable": true,
    "slideshow": {
     "slide_type": ""
    },
    "tags": []
   },
   "source": [
    "# Hosts: Hello OpenAssetIO\n",
    "\n",
    "This notebook illustrates how to initialise an OpenAssetIO session, resulting in a `Manager` instance for communication with a particular asset management system's plugin. We then perform a simple query of the manager, to `resolve` a property of an entity.\n"
   ]
  },
  {
   "cell_type": "markdown",
   "id": "60bd9de5-64c3-4f15-8824-ff1d94a894d7",
   "metadata": {
    "editable": true,
    "jp-MarkdownHeadingCollapsed": true,
    "slideshow": {
     "slide_type": ""
    },
    "tags": []
   },
   "source": [
    "## Setup\n",
    "\n",
    "The core OpenAssetIO library, `openassetio`, provides the \"verbs\" for interaction with a manager. I.e. it is the API we use to communicate with the manager plugin. Most data exchanged with the manager is opaque from the perspective of the core API.\n",
    "\n",
    "The industry-specific MediaCreation library, `openassetio-mediacreation`, provides the \"nouns\" for describing the data exchanged with the manager. I.e. it provides the structure of the data exchanged with the manager."
   ]
  },
  {
   "cell_type": "code",
   "execution_count": 1,
   "id": "80285f6a-8134-4055-9430-a48a5f79e7d3",
   "metadata": {
    "editable": true,
    "scrolled": true,
    "slideshow": {
     "slide_type": ""
    },
    "tags": [],
    "ExecuteTime": {
     "end_time": "2024-04-11T09:12:36.623396Z",
     "start_time": "2024-04-11T09:12:36.607832Z"
    }
   },
   "outputs": [],
   "source": [
    "try:\n",
    "    import openassetio\n",
    "    import openassetio_mediacreation\n",
    "except ImportError:\n",
    "    print(\"This notebook requires the packages listed in `resources/requirements.txt` to be installed\")\n",
    "    raise"
   ]
  },
  {
   "cell_type": "markdown",
   "source": [
    "We'll also pull in a helpers library to help us format our output - this is a library just for these notebooks and not part of the OpenAssetIO ecosystem generally."
   ],
   "metadata": {
    "collapsed": false
   },
   "id": "50f660d2de84b27d"
  },
  {
   "cell_type": "code",
   "outputs": [],
   "source": [
    "from resources import helpers"
   ],
   "metadata": {
    "collapsed": false,
    "ExecuteTime": {
     "end_time": "2024-04-11T09:12:36.643982Z",
     "start_time": "2024-04-11T09:12:36.624942Z"
    }
   },
   "id": "b5a74cd424da1322",
   "execution_count": 2
  },
  {
   "cell_type": "markdown",
   "id": "16ff8ea1-5bc4-41e2-b7ca-1ffd48618b3a",
   "metadata": {
    "editable": true,
    "slideshow": {
     "slide_type": ""
    },
    "tags": []
   },
   "source": [
    "## Bootstrap OpenAssetIO"
   ]
  },
  {
   "cell_type": "markdown",
   "id": "99caa904-09f1-4736-85a8-3c7cd384ca62",
   "metadata": {
    "editable": true,
    "slideshow": {
     "slide_type": ""
    },
    "tags": []
   },
   "source": [
    "The code initializing the OpenAssetIO API is known as a \"Host\".\n",
    "\n",
    "This section shows how the API is set up for use with a asset management systems. In this notebook, we make use of the puppetable [BasicAssetLibrary](https://github.com/OpenAssetIO/OpenAssetIO-Manager-BAL), which is configured to read from a simple database included in the resources folder."
   ]
  },
  {
   "cell_type": "code",
   "execution_count": 3,
   "id": "6ef73b42-a7ad-4bfb-9420-7d4def269459",
   "metadata": {
    "ExecuteTime": {
     "end_time": "2024-04-11T09:12:36.663743Z",
     "start_time": "2024-04-11T09:12:36.645272Z"
    }
   },
   "outputs": [],
   "source": [
    "from openassetio.hostApi import HostInterface, ManagerFactory\n",
    "from openassetio.log import ConsoleLogger, SeverityFilter\n",
    "from openassetio.pluginSystem import PythonPluginSystemManagerImplementationFactory\n",
    "\n",
    "# OpenAssetIO requires the host of the API to identify itself.\n",
    "class NotebookHostInterface(HostInterface):\n",
    "    def identifier(self):\n",
    "        return \"org.jupyter.notebook\"\n",
    "\n",
    "    def displayName(self):\n",
    "        return \"Jupyter Notebook\"\n",
    "        \n",
    "host_interface = NotebookHostInterface()\n",
    "\n",
    "# We also need to direct log messages that emerge from the\n",
    "# API and Manager plugins to somewhere visible. This setup\n",
    "# filters based on severity, and prints to stdout/err.\n",
    "logger = SeverityFilter(ConsoleLogger())\n",
    "\n",
    "# Specify that plugins should be loaded via the python plugin\n",
    "# system.\n",
    "impl_factory = PythonPluginSystemManagerImplementationFactory(logger)\n",
    "\n",
    "\n",
    "# We can now use the ManagerFactory to instantiate a suitable\n",
    "# manager - in this case, the notebook uses a predefined\n",
    "# BAL library\n",
    "manager = ManagerFactory.defaultManagerForInterface(\n",
    "    \"resources/hello_openassetio/openassetio_config.toml\", \n",
    "    host_interface, \n",
    "    impl_factory, \n",
    "    logger)\n",
    "\n",
    "# API calls that are part of the same logical \"process\"\n",
    "# should share a Context. Making one here simplifies the\n",
    "# code in the rest of the notebook.\n",
    "context = manager.createContext()"
   ]
  },
  {
   "cell_type": "markdown",
   "id": "1f59d1de-d6de-4141-822b-e08e0c3fc78a",
   "metadata": {},
   "source": [
    "We now have working `Manager` instance, that we can use to query asset information, and a `Context`. The context is used to correlate all of the API calls we make in this notebook, so the manager knows they are part of the same user session."
   ]
  },
  {
   "cell_type": "markdown",
   "id": "1a80594a-b171-49c5-8cfd-00e334759b1e",
   "metadata": {
    "editable": true,
    "slideshow": {
     "slide_type": ""
    },
    "tags": []
   },
   "source": [
    "## Getting started"
   ]
  },
  {
   "cell_type": "markdown",
   "id": "22277554-b477-4600-8c2a-90ee8d5c064e",
   "metadata": {
    "editable": true,
    "slideshow": {
     "slide_type": ""
    },
    "tags": []
   },
   "source": [
    "We've been given a URI by a colleague, which we need to turn into a strongly-typed `EntityReference` before we can use it to query the asset management system.\n",
    "\n",
    "This process ensures that only known URIs are passed to any subsequent API calls. The `createEntityReference` method will throw if the input is not known to the manager. There are other forms with different failure behaviours if exceptions aren't your thing."
   ]
  },
  {
   "cell_type": "code",
   "execution_count": 4,
   "id": "82c3962a-27b5-4375-b4fa-dbd14dcfc93b",
   "metadata": {
    "ExecuteTime": {
     "end_time": "2024-04-11T09:12:36.668571Z",
     "start_time": "2024-04-11T09:12:36.665380Z"
    }
   },
   "outputs": [
    {
     "data": {
      "text/markdown": "> **Result:**\n> `<openassetio.EntityReference bal:///project_artwork/logos/openassetio>`"
     },
     "metadata": {},
     "output_type": "display_data"
    }
   ],
   "source": [
    "logo_ref = manager.createEntityReference(\"bal:///project_artwork/logos/openassetio\")\n",
    "\n",
    "helpers.display_result(repr(logo_ref))"
   ]
  },
  {
   "cell_type": "markdown",
   "id": "ec69ae04-1895-4243-a949-71360175b173",
   "metadata": {
    "editable": true,
    "slideshow": {
     "slide_type": ""
    },
    "tags": []
   },
   "source": [
    "Now we have an entity reference for our logo, we can use the API to learn more about it."
   ]
  },
  {
   "cell_type": "markdown",
   "id": "4348da46-9467-4734-9f96-d84e26f7c11f",
   "metadata": {
    "editable": true,
    "jp-MarkdownHeadingCollapsed": true,
    "slideshow": {
     "slide_type": ""
    },
    "tags": []
   },
   "source": [
    "## Resolving a property\n"
   ]
  },
  {
   "cell_type": "markdown",
   "id": "5e32a587-5233-441e-9b80-1b2d6d3769fb",
   "metadata": {
    "editable": true,
    "slideshow": {
     "slide_type": ""
    },
    "tags": []
   },
   "source": [
    "OpenAssetIO supports various types of queries, including for entity relationships and for publishing. See other notebooks and the API documentation for more details.\n",
    "\n",
    "For this notebook we're simply going to ask the manager for the entity's location on disk. This is where the MediaCreation package comes in to play, allowing us to specify the shape of the data we want from the manager, and to extract that data once the query has completed.\n",
    "\n",
    "In particular, we make use of the `LocatableContentTrait` to get a URL to the content. The `ResolveAccess` access mode argument tells the manager what our intended usage of the data is - this is especially important for publishing workflows. For now, we just need to `kRead` some pre-existing data."
   ]
  },
  {
   "cell_type": "code",
   "execution_count": 5,
   "id": "0fcf0214-2561-488a-8eee-0330ca27710d",
   "metadata": {
    "scrolled": true,
    "ExecuteTime": {
     "end_time": "2024-04-11T09:12:36.686899Z",
     "start_time": "2024-04-11T09:12:36.669793Z"
    }
   },
   "outputs": [
    {
     "data": {
      "text/markdown": "> **Result:**\n> `file:///some/path/to/logo.jpg`"
     },
     "metadata": {},
     "output_type": "display_data"
    }
   ],
   "source": [
    "from openassetio_mediacreation.traits.content import LocatableContentTrait\n",
    "from openassetio.access import ResolveAccess\n",
    "\n",
    "entity_data = manager.resolve(logo_ref, {LocatableContentTrait.kId}, ResolveAccess.kRead, context)\n",
    "\n",
    "locatable_content_trait = LocatableContentTrait(entity_data)\n",
    "\n",
    "url = locatable_content_trait.getLocation()\n",
    "\n",
    "helpers.display_result(url)"
   ]
  },
  {
   "cell_type": "markdown",
   "source": [
    "OpenAssetIO philosophy is to always use URLs when specifying external resources, such as files, even for files on disk. As a convenience, OpenAssetIO includes a utility to convert `file://` URLs to and from file paths, on both Windows and POSIX systems. See API docs for more information."
   ],
   "metadata": {
    "collapsed": false
   },
   "id": "8b3b5c7ff44785b0"
  },
  {
   "cell_type": "code",
   "outputs": [
    {
     "data": {
      "text/markdown": "> **Result:**\n> `/some/path/to/logo.jpg`"
     },
     "metadata": {},
     "output_type": "display_data"
    }
   ],
   "source": [
    "from openassetio.utils import FileUrlPathConverter, PathType\n",
    "\n",
    "path = FileUrlPathConverter().pathFromUrl(url, PathType.kPOSIX)  # also .pathToUrl\n",
    "\n",
    "helpers.display_result(path)"
   ],
   "metadata": {
    "collapsed": false,
    "ExecuteTime": {
     "end_time": "2024-04-11T09:12:36.691020Z",
     "start_time": "2024-04-11T09:12:36.687691Z"
    }
   },
   "id": "2da05320a928e846",
   "execution_count": 6
  }
 ],
 "metadata": {
  "kernelspec": {
   "display_name": "Python 3 (ipykernel)",
   "language": "python",
   "name": "python3"
  },
  "language_info": {
   "codemirror_mode": {
    "name": "ipython",
    "version": 3
   },
   "file_extension": ".py",
   "mimetype": "text/x-python",
   "name": "python",
   "nbconvert_exporter": "python",
   "pygments_lexer": "ipython3",
   "version": "3.11.3"
  }
 },
 "nbformat": 4,
 "nbformat_minor": 5
}
