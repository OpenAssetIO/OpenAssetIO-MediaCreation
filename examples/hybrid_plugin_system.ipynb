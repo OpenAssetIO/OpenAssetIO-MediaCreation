{
 "cells": [
  {
   "metadata": {},
   "cell_type": "markdown",
   "source": [
    "# Hybrid Plugin System\n",
    "\n",
    "This notebook illustrates usage of the Hybrid Plugin System. We combine a Python manager plugin and a C++ manager plugin, and dispatch to the appropriate plugin based on its capabilities and priority. \n",
    "\n",
    "The primary use-case for this feature is to allow performance critical functionality to be written in performant C++, whilst less performance critical functionality can be written in more flexible Python.\n",
    "\n",
    "The hybrid plugin system also provides a more convenient abstraction for working with multiple plugin systems in general. It should be the default choice by most host applications (i.e. where a Python environment is available).\n",
    "\n",
    "## How it works\n",
    "\n",
    "The hybrid plugin system allows a manager to split its implementation between multiple languages. Under the hood, each language is loaded using its own plugin system (currently, C++ and Python are supported). It combines plugins that share the same identifier so they can be used by a host as if they were a single implementation. Calls are routed to one of the underlying implementations based on capabilities and the language priority set when the factory is made.\n",
    "\n",
    "This allows high call count methods such as `resolve` to be implemented in C++ to ensure maximum performance, whilst less frequently used methods such as `register` remain in more flexible Python.\n",
    "\n",
    "The following subsection dives into some more detail of how this works.\n",
    "\n",
    "### Details\n",
    "\n",
    "OpenAssetIO manager plugins must advertise a unique identifier. An OpenAssetIO plugin system (e.g. C++ or Python) maps unique identifiers to a plugin instance. A consequence of this is if multiple plugins advertise the same unique identifier, only one of those plugins can be chosen _by that plugin system_. However, if multiple plugin systems are in use,\n",
    "then each plugin system has their own mapping of unique identifier to plugin instance. This means there _can_ be multiple plugins with the same identifier, as long as they are discovered by different plugin systems.\n",
    "\n",
    "This is the essence of how the hybrid plugin system discovers plugins. If two (or more) plugins from two (or more) different plugin systems advertise the same unique identifier, then we assume they are related and can be composed.\n",
    "\n",
    "The hybrid plugin system therefore wraps a list of child plugin systems, such that they present as a single plugin system to the host.\n",
    "\n",
    "Given that the hybrid plugin system has discovered two (or more) composable plugins, we then need a mechanism to dispatch API calls to the appropriate plugin. I.e. we need a way to choose which plugin is the best to use for a particular API call. This is where the `hasCapability` API method comes in.\n",
    "\n",
    "OpenAssetIO API methods are grouped under \"capabilities\", e.g. `\"resolution\"`, `\"publishing\"`, `\"relationshipQueries\"`, etc (these are stringified representations of the `Capability` enumeration). A manager plugin advertises which capabilities it supports by overriding the `hasCapability` method of the base `ManagerInterface` class.\n",
    "\n",
    "Therefore, we can dispatch an API call to the appropriate manager plugin by finding the plugin that advertises the associated capability for that API call.\n",
    "\n",
    "If multiple plugins advertise that they support the required capability, then which plugin to use is determined by the original order that the child plugin systems were provided to the hybrid plugin system.  For example, if the hybrid plugin system was constructed with a list containing the C++ plugin system followed by the Python plugin system, and C++ and Python plugins have been discovered and composed, and both advertise that they support the required capability for a particular API call, then the C++ plugin will be chosen for that API call.\n",
    "\n",
    "All the OpenAssetIO _required_ capabilities (i.e. `\"entityReferenceIdentification\"`, `\"managementPolicyQueries\"`, `\"entityTraitIntrospection\"`) must be satisfied by at least one of the composed plugins.\n",
    "\n",
    "If only one child factory locates a plugin with the desired identifier, then that plugin is used directly (i.e. the plugin is not wrapped). In this way, host applications making use of the hybrid plugin system don't lose out on any functionality or performance. "
   ],
   "id": "6ebc020b4c31f1b8"
  },
  {
   "metadata": {},
   "cell_type": "markdown",
   "source": [
    "#### A note on information sharing\n",
    "\n",
    "Having two plugins in completely different languages, which logically form a single plugin, raises the question of how data should be shared between them.\n",
    "\n",
    "OpenAssetIO has a mechanism to help with this via the `Context` object. A `Context` instance is passed to (almost) every API method. A well-behaved host will re-use the same `Context` for all requests in the same logical process (typically an application session). \n",
    "\n",
    "The `Context` object holds a `managerState`  object, which can be used to communicate arbitrary information between the plugins. See the [API documentation](http://docs.openassetio.org/OpenAssetIO/stable_resolution.html#stable_resolution_manager_state) for more information.\n",
    "\n",
    "Populating the manager state in a way that can be read by both Python and C++ is left as an exercise to the reader. It's likely that the C++ plugin will require CPython as a dependency in order to translate between languages."
   ],
   "id": "25aa01663aa0e7c3"
  },
  {
   "metadata": {},
   "cell_type": "markdown",
   "source": "## Example",
   "id": "959ede09b6700a1e"
  },
  {
   "metadata": {},
   "cell_type": "markdown",
   "source": "### Preamble",
   "id": "5b0c4ae1f1b914e6"
  },
  {
   "metadata": {},
   "cell_type": "markdown",
   "source": "Reading through the following is not necessary to be able to understand how to use the hybrid plugin system, and can be safely skipped. Let's get the standard OpenAssetIO bootstrapping boilerplate out of the way. See the \"Hello OpenAssetIO\" notebook for more details.",
   "id": "a80b0202bf806edb"
  },
  {
   "metadata": {
    "ExecuteTime": {
     "end_time": "2024-09-25T10:51:56.201797Z",
     "start_time": "2024-09-25T10:51:56.171156Z"
    }
   },
   "cell_type": "code",
   "source": [
    "\n",
    "try:\n",
    "    import openassetio\n",
    "    import openassetio_mediacreation\n",
    "except ImportError:\n",
    "    print(\n",
    "        \"This notebook requires the packages listed in `resources/requirements.txt` to be installed\")\n",
    "    raise\n",
    "\n",
    "from resources import helpers\n",
    "\n",
    "from openassetio.hostApi import HostInterface, ManagerFactory\n",
    "from openassetio.log import LoggerInterface\n",
    "\n",
    "\n",
    "class NotebookHostInterface(HostInterface):\n",
    "    def identifier(self):\n",
    "        return \"org.jupyter.notebook\"\n",
    "\n",
    "    def displayName(self):\n",
    "        return \"Jupyter Notebook\"\n",
    "\n",
    "\n",
    "class NullLogger(LoggerInterface):\n",
    "    def log(self, _severity, _message):\n",
    "        pass\n",
    "\n",
    "\n",
    "host_interface = NotebookHostInterface()\n",
    "\n",
    "logger = NullLogger()"
   ],
   "id": "db2739c3f0a96d70",
   "outputs": [],
   "execution_count": 1
  },
  {
   "metadata": {},
   "cell_type": "markdown",
   "source": "#### The example plugin(s)",
   "id": "db3177717e0b2174"
  },
  {
   "metadata": {},
   "cell_type": "markdown",
   "source": [
    "\n",
    "In order to illustrate the hybrid plugin system, we'll make use of a super simple example hybrid plugin created just for this notebook, available in `resources/hybrid_plugin_system/SimpleHybridManager`.\n",
    "\n",
    "The Python plugin component is trivially available. However, the C++ plugin component is more complex, and must be built with a compiler toolchain compatible with the OpenAssetIO libraries in the Python environment of this notebook. See `resources/hybrid_plugin_system/SimpleHybridManager/README.md` for more details. \n",
    "\n",
    "We assume both the C++ and Python plugin components are installed into `resources/hybrid_plugin_system/SimpleHybridManager/plugin`, and will be discovered by adding this location to the standard `OPENASSETIO_PLUGIN_PATH` environment variable."
   ],
   "id": "791f52d06eea9aea"
  },
  {
   "metadata": {
    "ExecuteTime": {
     "end_time": "2024-09-25T10:51:56.209189Z",
     "start_time": "2024-09-25T10:51:56.206563Z"
    }
   },
   "cell_type": "code",
   "source": [
    "import os\n",
    "\n",
    "\n",
    "os.environ[\"OPENASSETIO_PLUGIN_PATH\"] = os.path.join(\n",
    "    \"resources\", \"hybrid_plugin_system\", \"SimpleHybridManager\", \"plugin\")"
   ],
   "id": "e3a94c5be66ad34e",
   "outputs": [],
   "execution_count": 2
  },
  {
   "metadata": {},
   "cell_type": "markdown",
   "source": "### Plugins designed for composition",
   "id": "398b79c83304c214"
  },
  {
   "metadata": {},
   "cell_type": "markdown",
   "source": "Let's try to initialise our C++ and Python example managers separately and see what happens.\n",
   "id": "23f7dfb47f211322"
  },
  {
   "metadata": {
    "ExecuteTime": {
     "end_time": "2024-09-25T10:51:56.339454Z",
     "start_time": "2024-09-25T10:51:56.323959Z"
    }
   },
   "cell_type": "code",
   "source": [
    "from openassetio.errors import ConfigurationException\n",
    "from openassetio.pluginSystem import (\n",
    "    CppPluginSystemManagerImplementationFactory, PythonPluginSystemManagerImplementationFactory)\n",
    "\n",
    "\n",
    "cpp_factory = CppPluginSystemManagerImplementationFactory(logger)\n",
    "\n",
    "try:\n",
    "    cpp_manager = ManagerFactory.defaultManagerForInterface(\n",
    "        \"resources/hybrid_plugin_system/openassetio_config.toml\",\n",
    "        host_interface,\n",
    "        cpp_factory,\n",
    "        logger)\n",
    "\n",
    "except ConfigurationException as exc:\n",
    "    helpers.display_result(f\"C++ plugin error: {exc}\")\n",
    "\n",
    "python_factory = PythonPluginSystemManagerImplementationFactory(logger)\n",
    "\n",
    "py_manager = ManagerFactory.defaultManagerForInterface(\n",
    "    \"resources/hybrid_plugin_system/openassetio_config.toml\",\n",
    "    host_interface,\n",
    "    python_factory,\n",
    "    logger)"
   ],
   "id": "129439ba58f8e81f",
   "outputs": [
    {
     "data": {
      "text/markdown": "> **Result:**\n> `C++ plugin error: Manager implementation for 'org.openassetio.examples.simplehybridmanager' does not support the required capabilities: entityReferenceIdentification, managementPolicyQueries, entityTraitIntrospection`"
     },
     "metadata": {},
     "output_type": "display_data"
    }
   ],
   "execution_count": 3
  },
  {
   "metadata": {},
   "cell_type": "markdown",
   "source": [
    "So the C++ plugin system found a plugin, but it doesn't support any of the required capabilities.\n",
    "\n",
    "We had better luck with the Python plugin system. However, we're going to want to `resolve` an entity. Is the Python plugin capable of resolution?"
   ],
   "id": "9328df2151a26971"
  },
  {
   "metadata": {
    "ExecuteTime": {
     "end_time": "2024-09-25T10:51:56.379374Z",
     "start_time": "2024-09-25T10:51:56.375898Z"
    }
   },
   "cell_type": "code",
   "source": [
    "can_resolve = py_manager.hasCapability(py_manager.Capability.kResolution)\n",
    "\n",
    "helpers.display_result(f\"Can resolve? {can_resolve}\")"
   ],
   "id": "27535337eda9f49e",
   "outputs": [
    {
     "data": {
      "text/markdown": "> **Result:**\n> `Can resolve? False`"
     },
     "metadata": {},
     "output_type": "display_data"
    }
   ],
   "execution_count": 4
  },
  {
   "metadata": {},
   "cell_type": "markdown",
   "source": "So no, the Python plugin does not support the `resolve` method, at least on its own...",
   "id": "8b67117d2f42a87e"
  },
  {
   "metadata": {},
   "cell_type": "markdown",
   "source": [
    "### The hybrid plugin system\n",
    "\n",
    "Given the two `ManagerImplementationFactoryInterface` instances (`cpp_factory` and `python_factory`), we can create a hybrid factory."
   ],
   "id": "5fd4a729153276f9"
  },
  {
   "metadata": {
    "ExecuteTime": {
     "end_time": "2024-09-25T10:51:56.431456Z",
     "start_time": "2024-09-25T10:51:56.428572Z"
    }
   },
   "cell_type": "code",
   "source": [
    "from openassetio.pluginSystem import HybridPluginSystemManagerImplementationFactory\n",
    "\n",
    "\n",
    "hybrid_factory = HybridPluginSystemManagerImplementationFactory(\n",
    "    [cpp_factory, python_factory], logger)\n",
    "\n",
    "manager = ManagerFactory.defaultManagerForInterface(\n",
    "    \"resources/hybrid_plugin_system/openassetio_config.toml\",\n",
    "    host_interface,\n",
    "    hybrid_factory,\n",
    "    logger)"
   ],
   "id": "87c3d7e701b095d9",
   "outputs": [],
   "execution_count": 5
  },
  {
   "metadata": {},
   "cell_type": "markdown",
   "source": [
    "Success! \n",
    "\n",
    "Notice how only a single config file (`openassetio_config.toml`) was provided. With hybrid plugins, the same configuration file is used for all the constituent plugins. In particular, any and all manager settings specified in the config file are passed to all plugins during initialisation.\n",
    "\n",
    "Is this combined hybrid plugin now capable of resolution?"
   ],
   "id": "4924fc6cb8e0620f"
  },
  {
   "metadata": {
    "ExecuteTime": {
     "end_time": "2024-09-25T10:51:56.490738Z",
     "start_time": "2024-09-25T10:51:56.487400Z"
    }
   },
   "cell_type": "code",
   "source": [
    "can_resolve = manager.hasCapability(py_manager.Capability.kResolution)\n",
    "\n",
    "helpers.display_result(f\"Can resolve? {can_resolve}\")"
   ],
   "id": "2869873c40ecc805",
   "outputs": [
    {
     "data": {
      "text/markdown": "> **Result:**\n> `Can resolve? True`"
     },
     "metadata": {},
     "output_type": "display_data"
    }
   ],
   "execution_count": 6
  },
  {
   "metadata": {},
   "cell_type": "markdown",
   "source": [
    "Again, success! The resolution capability from the C++ plugin has been combined with the capabilities of the Python plugin. \n",
    "\n",
    "Note that since the `resolve` method is implemented in the C++ plugin, the Python GIL will be released when calling this method, allowing Python threads to continue whilst the `resolve` call is processed. In particular, since many UIs are written in Python, allowing (multiple/batch) `resolve` calls to run in a separate thread, without holding the Python GIL, can prevent nasty UI lockups."
   ],
   "id": "52d907bb3a19db77"
  },
  {
   "metadata": {},
   "cell_type": "markdown",
   "source": [
    "\n",
    "Now lets retrieve an entity's trait set from the manager:"
   ],
   "id": "e12f1acc9f62324a"
  },
  {
   "metadata": {
    "ExecuteTime": {
     "end_time": "2024-09-25T10:51:56.544062Z",
     "start_time": "2024-09-25T10:51:56.540234Z"
    }
   },
   "cell_type": "code",
   "source": [
    "from openassetio.access import EntityTraitsAccess\n",
    "\n",
    "\n",
    "context = manager.createContext()\n",
    "entity_ref = manager.createEntityReference(\"examplehybrid://example_entity\")\n",
    "\n",
    "trait_set = manager.entityTraits(entity_ref, EntityTraitsAccess.kRead, context)\n",
    "\n",
    "helpers.display_result(trait_set)\n"
   ],
   "id": "35b7fc091048a457",
   "outputs": [
    {
     "data": {
      "text/markdown": "> **Result:**\n> `{'openassetio-mediacreation:usage.Entity', 'openassetio-mediacreation:content.LocatableContent'}`"
     },
     "metadata": {},
     "output_type": "display_data"
    }
   ],
   "execution_count": 7
  },
  {
   "metadata": {},
   "cell_type": "markdown",
   "source": "So the entity has the `LocatableContent` trait. Let's `resolve` its location:\n",
   "id": "85d2a4a633cc9e82"
  },
  {
   "metadata": {
    "ExecuteTime": {
     "end_time": "2024-09-25T10:51:56.596321Z",
     "start_time": "2024-09-25T10:51:56.592109Z"
    }
   },
   "cell_type": "code",
   "source": [
    "from openassetio.access import ResolveAccess\n",
    "from openassetio_mediacreation.traits.content import LocatableContentTrait\n",
    "\n",
    "\n",
    "trait_data = manager.resolve(entity_ref, {LocatableContentTrait.kId}, ResolveAccess.kRead, context)\n",
    "\n",
    "url = LocatableContentTrait(trait_data).getLocation()\n",
    "\n",
    "helpers.display_result(url)\n"
   ],
   "id": "af6d8d7ec842c204",
   "outputs": [
    {
     "data": {
      "text/markdown": "> **Result:**\n> `file:///some/path.exr`"
     },
     "metadata": {},
     "output_type": "display_data"
    }
   ],
   "execution_count": 8
  },
  {
   "metadata": {},
   "cell_type": "markdown",
   "source": [
    "Success! Pretty straightforward.\n",
    " \n",
    "For further reading, if you inspect the C++ implementation at `resources/hybrid_plugin_system/SimpleHybridManager/src/CppComponentOfSimpleHybridManager.cpp` you'll find no implementation of the `entityTraits` method, or indeed any non-trivial method, other than `resolve`. \n",
    "\n",
    "Similarly, if you inspect the Python implementation at `resources/hybrid_plugin_system/SimpleHybridManager/plugin/PyComponentOfSimpleHybridManager.py` you'll find no implementation of the `resolve` method. \n",
    "\n",
    "So the two plugins have been seamlessly combined into a single interface."
   ],
   "id": "be76095fb0d00046"
  }
 ],
 "metadata": {
  "kernelspec": {
   "display_name": "Python 3",
   "language": "python",
   "name": "python3"
  },
  "language_info": {
   "codemirror_mode": {
    "name": "ipython",
    "version": 2
   },
   "file_extension": ".py",
   "mimetype": "text/x-python",
   "name": "python",
   "nbconvert_exporter": "python",
   "pygments_lexer": "ipython2",
   "version": "2.7.6"
  }
 },
 "nbformat": 4,
 "nbformat_minor": 5
}
