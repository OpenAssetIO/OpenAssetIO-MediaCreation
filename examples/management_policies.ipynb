{
 "cells": [
  {
   "cell_type": "markdown",
   "source": [
    "# Management policies\n",
    "\n",
    "This notebook shows how a host should query a manager to discover its policy toward managing different categories of asset using the `managementPolicy` API, both for reading existing data and publishing new data."
   ],
   "metadata": {
    "collapsed": false
   },
   "id": "5a1f198c2dbcd50b"
  },
  {
   "cell_type": "markdown",
   "source": [
    "## Setup\n",
    "\n",
    "See \"Hello OpenAssetIO\" notebook for details on how to bootstrap OpenAssetIO."
   ],
   "metadata": {
    "collapsed": false
   },
   "id": "a5f0c2a3a4a3117d"
  },
  {
   "cell_type": "code",
   "outputs": [],
   "source": [
    "from resources import helpers\n",
    "\n",
    "\n",
    "manager, context = helpers.bootstrap(\"resources/management_policies/openassetio_config.toml\")"
   ],
   "metadata": {
    "collapsed": false,
    "ExecuteTime": {
     "end_time": "2024-03-13T07:56:17.566800Z",
     "start_time": "2024-03-13T07:56:17.527306Z"
    }
   },
   "id": "320f8ec6b0f6ea91",
   "execution_count": 1
  },
  {
   "cell_type": "markdown",
   "source": [
    "## Setting the scene"
   ],
   "metadata": {
    "collapsed": false
   },
   "id": "b2ab89518162569f"
  },
  {
   "cell_type": "markdown",
   "source": [
    "Our DCC (Digital Content Creation) tool wishes to load a 3D model, render it to a 2D image, then publish that render.\n",
    "\n",
    "Managers have varying capabilities, and we want to adjust the user workflow, both in terms of UI presented and the entity queries performed, to suit the information the manager is capable of providing and persisting."
   ],
   "metadata": {
    "collapsed": false
   },
   "id": "d3a4359d83015d83"
  },
  {
   "cell_type": "markdown",
   "source": [
    "## Determining resolvable geometry properties"
   ],
   "metadata": {
    "collapsed": false
   },
   "id": "9a9af3550e53094b"
  },
  {
   "cell_type": "markdown",
   "source": [
    "Say a user wishes to load the geometry, then a common issue with geometry formats is knowing which axis is intended to be used as the \"up\" direction. \n",
    "\n",
    "Ideally the manager would tell us which axis to consider as \"up\". However, we cannot assume the manager is capable of this. If it can't, we want to display a variation of the UI that additionally requires the user to specify the base orientation.\n",
    "\n",
    "We can decide ahead of time which UI should be shown by querying the manager's policy for this type of entity. This will tell us which traits of the entity that the manager can `resolve`.\n",
    "\n",
    "The MediaCreation package has an appropriate Specification for describing 3D geometry, so let's use that."
   ],
   "metadata": {
    "collapsed": false
   },
   "id": "e7b86520d4d4dd69"
  },
  {
   "cell_type": "code",
   "outputs": [
    {
     "data": {
      "text/markdown": "> **Result:**\n> `{'openassetio-mediacreation:threeDimensional.Geometry', 'openassetio-mediacreation:threeDimensional.Spatial', 'openassetio-mediacreation:usage.Entity', 'openassetio-mediacreation:content.LocatableContent'}`"
     },
     "metadata": {},
     "output_type": "display_data"
    }
   ],
   "source": [
    "from openassetio_mediacreation.specifications.threeDimensional import \\\n",
    "    SceneGeometryResourceSpecification\n",
    "\n",
    "\n",
    "helpers.display_result(SceneGeometryResourceSpecification.kTraitSet)"
   ],
   "metadata": {
    "collapsed": false,
    "ExecuteTime": {
     "end_time": "2024-03-13T07:56:17.571179Z",
     "start_time": "2024-03-13T07:56:17.567945Z"
    }
   },
   "id": "2bae30e4867eeda5",
   "execution_count": 2
  },
  {
   "cell_type": "markdown",
   "source": [
    "If we look at the definition of these traits (see `traits.yml`)\n",
    " - Only `LocatableContent` and `Spatial` traits have potentially resolvable properties. The other traits are purely to aid in classification. \n",
    " - To get the \"up\" axis of some geometry, we would need to `resolve` the `Spatial` trait and retrieve its `upAxis` property.\n",
    "\n",
    "Now lets get the manager's policy for resolving existing entities of this category."
   ],
   "metadata": {
    "collapsed": false
   },
   "id": "3a714356c95758e8"
  },
  {
   "cell_type": "code",
   "outputs": [
    {
     "data": {
      "text/markdown": "> **Result:**\n> `{'openassetio-mediacreation:content.LocatableContent', 'openassetio-mediacreation:managementPolicy.Managed'}`"
     },
     "metadata": {},
     "output_type": "display_data"
    }
   ],
   "source": [
    "from openassetio.access import PolicyAccess\n",
    "\n",
    "\n",
    "[policy] = manager.managementPolicy(\n",
    "    [SceneGeometryResourceSpecification.kTraitSet], PolicyAccess.kRead, context)\n",
    "\n",
    "helpers.display_result(policy.traitSet())"
   ],
   "metadata": {
    "collapsed": false,
    "ExecuteTime": {
     "end_time": "2024-03-13T07:56:17.577252Z",
     "start_time": "2024-03-13T07:56:17.572127Z"
    }
   },
   "id": "ab5b8d3b8748b804",
   "execution_count": 3
  },
  {
   "cell_type": "markdown",
   "source": [
    "The returned policy object is a bundle of traits, much like the result of `resolve`, but with a significantly different meaning.\n",
    "\n",
    "The policy trait set is a combination of (1) policy-specific traits (those marked with a `usage` of `managementPolicy` in their definition), and (2) the subset of the requested traits that can be resolved.\n",
    "\n",
    "In this case, the `Managed` policy-specific trait is imbued, and (only) the `LocatableContent` entity trait (from the `SceneGeometryResourceSpecification`'s trait set) is imbued.\n",
    "\n",
    "The good news is that, since the `Managed` policy trait is imbued, we know that this type of entity can be queried.\n",
    "\n",
    "However, note the absence of the `Spatial` trait in the response. This means that, unfortunately, the manager is not capable of resolving that trait. Be aware, though, that the `Spatial` trait is still part of the entity's trait set and still affects its categorization, even if the manager is not capable of providing data for it.\n",
    "\n",
    "The Specification and Trait view classes provide convenient utility methods to safely inspect trait data for the presence of a trait:"
   ],
   "metadata": {
    "collapsed": false
   },
   "id": "d2d5ae141d4030e4"
  },
  {
   "cell_type": "code",
   "outputs": [],
   "source": [
    "from openassetio_mediacreation.traits.managementPolicy import ManagedTrait\n",
    "from openassetio_mediacreation.traits.threeDimensional import SpatialTrait\n",
    "\n",
    "# Check if policy contains the `ManagedTrait`\n",
    "assert ManagedTrait.isImbuedTo(policy) == True\n",
    "\n",
    "# Check if policy contains the `SpatialTrait`\n",
    "assert SpatialTrait(policy).isImbued() == False\n",
    "# or\n",
    "assert SceneGeometryResourceSpecification(policy).spatialTrait().isImbued() == False\n"
   ],
   "metadata": {
    "collapsed": false,
    "ExecuteTime": {
     "end_time": "2024-03-13T07:56:17.582858Z",
     "start_time": "2024-03-13T07:56:17.578628Z"
    }
   },
   "id": "4c355b5a8961023a",
   "execution_count": 4
  },
  {
   "cell_type": "markdown",
   "source": [
    "Now that we have determined what can be resolved, a host author can use this information to tailor their UI accordingly, prompting the user for information the manager cannot provide, and alleviating the user from having to fill in any redundant information that the manager can provide."
   ],
   "metadata": {
    "collapsed": false
   },
   "id": "13ca2ea666a796e3"
  },
  {
   "cell_type": "markdown",
   "source": [
    "## Determining requirements for publishing"
   ],
   "metadata": {
    "collapsed": false
   },
   "id": "1f132be11d418613"
  },
  {
   "cell_type": "markdown",
   "source": [
    "For publishing our rendered image, we will need to inform the manager of the image entity's trait set. We make use of the MediaCreation `PlanarBitmapImageResourceSpecification` and, since our application uses OpenColorIO to manage the colour space of renders, we augment the specification's trait set with an optional `OCIOColorManaged` trait, to signal that our images have this additional quality."
   ],
   "metadata": {
    "collapsed": false
   },
   "id": "e44c5c10d992e2e3"
  },
  {
   "cell_type": "code",
   "outputs": [
    {
     "data": {
      "text/markdown": "> **Result:**\n> `{'openassetio-mediacreation:color.OCIOColorManaged', 'openassetio-mediacreation:twoDimensional.PixelBased', 'openassetio-mediacreation:content.LocatableContent', 'openassetio-mediacreation:twoDimensional.Planar', 'openassetio-mediacreation:twoDimensional.Image', 'openassetio-mediacreation:usage.Entity'}`"
     },
     "metadata": {},
     "output_type": "display_data"
    }
   ],
   "source": [
    "from openassetio_mediacreation.specifications.twoDimensional import \\\n",
    "    PlanarBitmapImageResourceSpecification\n",
    "from openassetio_mediacreation.traits.color import OCIOColorManagedTrait\n",
    "\n",
    "\n",
    "image_trait_set = PlanarBitmapImageResourceSpecification.kTraitSet | {OCIOColorManagedTrait.kId}\n",
    "\n",
    "helpers.display_result(image_trait_set)\n"
   ],
   "metadata": {
    "collapsed": false,
    "ExecuteTime": {
     "end_time": "2024-03-13T07:56:17.590902Z",
     "start_time": "2024-03-13T07:56:17.583884Z"
    }
   },
   "id": "f554b02d92aa8091",
   "execution_count": 5
  },
  {
   "cell_type": "markdown",
   "source": [
    "When publishing an entity (i.e. using the `preflight` and `register` API methods), the published data should be imbued with _all_ the traits from an entity's trait set (plus any optional traits you wish the manager to consider), in order for the manager to properly classify the entity. \n",
    "\n",
    "However, traits can also carry data in the form of trait _properties_. If a manager accepts a given trait set for publishing, that doesn't necessarily mean the manager can persist all the _properties_ associated with those traits.\n",
    "\n",
    "So we have two questions. We want to know whether the manager is interested in entities of this type at all. If so, we want to know the subset of traits whose properties can be persisted by the manager. \n",
    "\n",
    "We can answer these questions by calling `managementPolicy` with the `kWrite` access mode:"
   ],
   "metadata": {
    "collapsed": false
   },
   "id": "d5cfdd016ffa3e19"
  },
  {
   "cell_type": "code",
   "outputs": [
    {
     "data": {
      "text/markdown": "> **Result:**\n> `{'openassetio-mediacreation:content.LocatableContent', 'openassetio-mediacreation:color.OCIOColorManaged', 'openassetio-mediacreation:twoDimensional.PixelBased', 'openassetio-mediacreation:managementPolicy.Managed'}`"
     },
     "metadata": {},
     "output_type": "display_data"
    }
   ],
   "source": [
    "from openassetio.access import PolicyAccess\n",
    "\n",
    "\n",
    "[write_policy] = manager.managementPolicy([image_trait_set], PolicyAccess.kWrite, context)\n",
    "\n",
    "helpers.display_result(write_policy.traitSet())"
   ],
   "metadata": {
    "collapsed": false,
    "ExecuteTime": {
     "end_time": "2024-03-13T07:56:17.596280Z",
     "start_time": "2024-03-13T07:56:17.591911Z"
    }
   },
   "id": "15e1be1277309b62",
   "execution_count": 6
  },
  {
   "cell_type": "markdown",
   "source": [
    "Once again we see the `Managed` trait, indicating that entities of this kind can be published. In addition, we see that `PixelBased`, `LocatableContent` and `OCIOColorManaged` are traits with associated properties that can be persisted by the manager.\n",
    "\n",
    "Again, these are traits that _can be_ persisted by the manager. However, some properties may be _required_ for publishing to succeed. For this, we can again check the manager's policy, where we wish to ask the manager for the `kRequired` subset of an entity's traits:"
   ],
   "metadata": {
    "collapsed": false
   },
   "id": "c6453ae700db6604"
  },
  {
   "cell_type": "code",
   "outputs": [
    {
     "data": {
      "text/markdown": "> **Result:**\n> `{'openassetio-mediacreation:color.OCIOColorManaged', 'openassetio-mediacreation:managementPolicy.Managed', 'openassetio-mediacreation:content.LocatableContent'}`"
     },
     "metadata": {},
     "output_type": "display_data"
    }
   ],
   "source": [
    "[required_policy] = manager.managementPolicy([image_trait_set], PolicyAccess.kRequired, context)\n",
    "\n",
    "helpers.display_result(required_policy.traitSet())"
   ],
   "metadata": {
    "collapsed": false,
    "ExecuteTime": {
     "end_time": "2024-03-13T07:56:17.601397Z",
     "start_time": "2024-03-13T07:56:17.597131Z"
    }
   },
   "id": "8059d9533bf54deb",
   "execution_count": 7
  },
  {
   "cell_type": "markdown",
   "source": [
    "We can see that the required traits are `LocatableContent` and `OCIOColorManaged` (i.e. the properties of `PixelBased` are optional). \n",
    "\n",
    "Note that even within a single given trait, not all properties are necessarily required. Consult the documentation for each specific trait to learn which properties may be optional.\n",
    "\n",
    "Generally, it is a good idea to imbue all the information you have, as the manager is in the best place to decide what is does or doesn't want to persist.\n",
    "\n",
    "Before performing a render, we should check if the manager has any values that it wants to dictate to the host ahead of time. "
   ],
   "metadata": {
    "collapsed": false
   },
   "id": "3b4164434d655bc7"
  },
  {
   "cell_type": "code",
   "outputs": [
    {
     "data": {
      "text/markdown": "> **Result:**\n> `{'openassetio-mediacreation:content.LocatableContent', 'openassetio-mediacreation:managementPolicy.Managed'}`"
     },
     "metadata": {},
     "output_type": "display_data"
    }
   ],
   "source": [
    "[manager_driven_policy] = manager.managementPolicy(\n",
    "    [image_trait_set], PolicyAccess.kManagerDriven, context)\n",
    "\n",
    "helpers.display_result(manager_driven_policy.traitSet())"
   ],
   "metadata": {
    "collapsed": false,
    "ExecuteTime": {
     "end_time": "2024-03-13T07:56:17.607209Z",
     "start_time": "2024-03-13T07:56:17.602157Z"
    }
   },
   "id": "ed1fb267bbf648ae",
   "execution_count": 8
  },
  {
   "cell_type": "markdown",
   "source": [
    "This particular manager wishes the output to be written to a specific destination on the file system (since the `LocatableContent` trait is in the result). However, the manager has no opinion on which colour space to use (since `OCIOColorManaged` is not in the result), so the host is free to use whichever it wants, as long as the colour space is published with the rest of the data (since it is `kRequired`, see above).\n",
    "\n",
    "We now know that when we start publishing an entity of this kind, we can (indeed, should) take the working reference returned from `preflight`, and `resolve` it for the `LocatableContent` trait in `kManagerDriven` access mode, in order to get the file save path. An example of this workflow is given below."
   ],
   "metadata": {
    "collapsed": false
   },
   "id": "23fef42581aa7859"
  },
  {
   "cell_type": "markdown",
   "source": [
    "## Usage in publishing"
   ],
   "metadata": {
    "collapsed": false
   },
   "id": "3f09c3ae7f3aeb72"
  },
  {
   "cell_type": "markdown",
   "source": [
    "Now that we have the pieces, lets sketch out what a publishing workflow could look like. In particular, note the `resolve` of the working reference with `ResolveAccess.kManagerDriven`"
   ],
   "metadata": {
    "collapsed": false
   },
   "id": "8cc3e6e782501752"
  },
  {
   "cell_type": "code",
   "outputs": [
    {
     "name": "stdout",
     "output_type": "stream",
     "text": [
      "Rendering to 'file:///mnt/staging/renders/myrender.exr' with type 'image/x-exr'\n"
     ]
    },
    {
     "data": {
      "text/markdown": "> **Result:**\n> `bal:///project/renders/myrender?v=2`"
     },
     "metadata": {},
     "output_type": "display_data"
    }
   ],
   "source": [
    "from openassetio.access import PublishingAccess, ResolveAccess\n",
    "\n",
    "from openassetio_mediacreation.traits.content import LocatableContentTrait\n",
    "from openassetio_mediacreation.traits.twoDimensional import PixelBasedTrait\n",
    "from openassetio_mediacreation.traits.color import OCIOColorManagedTrait\n",
    "\n",
    "\n",
    "image_trait_set = PlanarBitmapImageResourceSpecification.kTraitSet | {OCIOColorManagedTrait.kId}\n",
    "\n",
    "[write_policy] = manager.managementPolicy([image_trait_set], PolicyAccess.kWrite, context)\n",
    "[required_policy] = manager.managementPolicy([image_trait_set], PolicyAccess.kRequired, context)\n",
    "[manager_driven_policy] = manager.managementPolicy(\n",
    "    [image_trait_set], PolicyAccess.kManagerDriven, context)\n",
    "\n",
    "# In practice, host applications should gracefully handle the policy of\n",
    "# the manager (e.g. by allowing the user to select a file save location\n",
    "# if the manager cannot provide one). Here, we just fail if the policy\n",
    "# is not what we expect.\n",
    "\n",
    "if not ManagedTrait.isImbuedTo(write_policy):\n",
    "    raise RuntimeError(\"Manager does not support publishing image types\")\n",
    "\n",
    "if not LocatableContentTrait.isImbuedTo(write_policy):\n",
    "    raise RuntimeError(\"Manager cannot store file save location\")\n",
    "\n",
    "if PixelBasedTrait.isImbuedTo(required_policy):\n",
    "    raise RuntimeError(\"Manager requires image metadata that cannot be provided\")\n",
    "\n",
    "if OCIOColorManagedTrait.isImbuedTo(manager_driven_policy):\n",
    "    raise RuntimeError(\"Manager wants to dictate colour space but host does not support this\")\n",
    "\n",
    "if not LocatableContentTrait.isImbuedTo(manager_driven_policy):\n",
    "    raise RuntimeError(\"Manager cannot provide a location to save to\")\n",
    "\n",
    "# Create an image specification, and additionally imbue the optional\n",
    "# OCIO trait.\n",
    "image_spec = PlanarBitmapImageResourceSpecification.create()\n",
    "image_traits_data = image_spec.traitsData()\n",
    "ocio_trait = OCIOColorManagedTrait(image_traits_data)\n",
    "ocio_trait.imbue()\n",
    "# We know the colour space we're going to use ahead of time, so we should\n",
    "# pre-fill this data ready for `preflight` to begin the (relatively\n",
    "# long-running) publishing process.\n",
    "ocio_trait.setColorspace(\"sRGB\")\n",
    "\n",
    "# Let's pretend the user has entered the following entity reference in a\n",
    "# publishing widget.\n",
    "ref_str_from_widget = \"bal:///project/renders/myrender\"\n",
    "\n",
    "initial_ref = manager.createEntityReference(ref_str_from_widget)\n",
    "\n",
    "# Initiate publishing, preflighting all available up-front data to obtain\n",
    "# a working reference that we will `resolve` from and `register` to, below.\n",
    "working_ref = manager.preflight(\n",
    "    initial_ref, image_traits_data, PublishingAccess.kWrite, context)\n",
    "\n",
    "# Get the data that is `kManagerDriven`, i.e. dictated by the manager.\n",
    "manager_driven_data = manager.resolve(\n",
    "    working_ref, {LocatableContentTrait.kId}, ResolveAccess.kManagerDriven, context)\n",
    "\n",
    "manager_driven_locatable_content_trait = LocatableContentTrait(manager_driven_data)\n",
    "save_file_path = manager_driven_locatable_content_trait.getLocation()\n",
    "save_file_type = manager_driven_locatable_content_trait.getMimeType(defaultValue=\"image/x-exr\")\n",
    "\n",
    "print(f\"Rendering to '{save_file_path}' with type '{save_file_type}'\")\n",
    "\n",
    "# [... do the render ...]\n",
    "\n",
    "# Set the final save location and type in the data to publish. This should\n",
    "# be the same as the location `resolve`d above.\n",
    "locatable_content_trait = LocatableContentTrait(image_traits_data)\n",
    "locatable_content_trait.setLocation(save_file_path)\n",
    "locatable_content_trait.setMimeType(save_file_type)\n",
    "\n",
    "final_ref = manager.register(working_ref, image_traits_data, PublishingAccess.kWrite, context)\n",
    "\n",
    "helpers.display_result(final_ref)"
   ],
   "metadata": {
    "collapsed": false,
    "ExecuteTime": {
     "end_time": "2024-03-13T07:56:17.648865Z",
     "start_time": "2024-03-13T07:56:17.608546Z"
    }
   },
   "id": "4b129ad13007c541",
   "execution_count": 9
  }
 ],
 "metadata": {
  "kernelspec": {
   "display_name": "Python 3",
   "language": "python",
   "name": "python3"
  },
  "language_info": {
   "codemirror_mode": {
    "name": "ipython",
    "version": 2
   },
   "file_extension": ".py",
   "mimetype": "text/x-python",
   "name": "python",
   "nbconvert_exporter": "python",
   "pygments_lexer": "ipython2",
   "version": "2.7.6"
  }
 },
 "nbformat": 4,
 "nbformat_minor": 5
}
