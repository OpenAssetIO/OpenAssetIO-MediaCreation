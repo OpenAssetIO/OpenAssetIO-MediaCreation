{
 "cells": [
  {
   "cell_type": "markdown",
   "id": "c6186fa396efb2d9",
   "metadata": {},
   "source": [
    "# UI delegation"
   ]
  },
  {
   "cell_type": "markdown",
   "id": "6c311cbd4db4549",
   "metadata": {},
   "source": [
    "OpenAssetIO allows applications to provide a bespoke yet natively integrated user interface for interacting with asset management systems in a pipeline. This is accomplished though _UI delegation_. A host application that wishes to present a user with a graphical interface to interact with an asset management system can request the appropriate UI element from a plugin, and be notified by the plugin when the user has performed a relevant interaction. For example, an asset browser in place of a standard file browser."
   ]
  },
  {
   "cell_type": "markdown",
   "id": "f061b965717a13dc",
   "metadata": {},
   "source": [
    "## Preamble\n",
    "\n",
    "This section establishes some boilerplate that will be useful for the rest of the notebook."
   ]
  },
  {
   "cell_type": "markdown",
   "id": "4df5572e-4601-4252-94c9-8d9609d602cf",
   "metadata": {},
   "source": [
    "First some standard OpenAssetIO boilerplate - see the Hello OpenAssetIO notebook for more details."
   ]
  },
  {
   "cell_type": "code",
   "id": "c07329d33cc84496",
   "metadata": {
    "ExecuteTime": {
     "end_time": "2025-04-07T12:24:57.875811Z",
     "start_time": "2025-04-07T12:24:57.861169Z"
    }
   },
   "source": [
    "try:\n",
    "    import openassetio\n",
    "    import openassetio_mediacreation\n",
    "except ImportError:\n",
    "    print(\n",
    "        \"This notebook requires the packages listed in `resources/requirements.txt` to be installed\"\n",
    "    )\n",
    "    raise\n",
    "\n",
    "from openassetio.hostApi import HostInterface\n",
    "from openassetio.log import ConsoleLogger, SeverityFilter\n",
    "\n",
    "\n",
    "class NotebookHostInterface(HostInterface):\n",
    "    def identifier(self):\n",
    "        return \"org.jupyter.notebook\"\n",
    "\n",
    "    def displayName(self):\n",
    "        return \"Jupyter Notebook\"\n",
    "\n",
    "\n",
    "host_interface = NotebookHostInterface()\n",
    "logger = SeverityFilter(ConsoleLogger())"
   ],
   "outputs": [],
   "execution_count": 1
  },
  {
   "cell_type": "markdown",
   "id": "995cede19881f172",
   "metadata": {},
   "source": [
    "For demonstration purposes, we'll create a simple UI framework, making use of Jupyter's `ipywidgets` module."
   ]
  },
  {
   "cell_type": "code",
   "id": "49442eea03ce9c8b",
   "metadata": {
    "ExecuteTime": {
     "end_time": "2025-04-07T12:24:57.951107Z",
     "start_time": "2025-04-07T12:24:57.913620Z"
    }
   },
   "source": [
    "import ipywidgets\n",
    "from IPython.display import display\n",
    "\n",
    "\n",
    "class WidgetBase:\n",
    "    def __init__(self, on_value_change_cb):\n",
    "        self.__on_value_change_cb = on_value_change_cb\n",
    "        self._ipywidget = None\n",
    "\n",
    "    def attach(self):\n",
    "        display(self._ipywidget)\n",
    "        self._ipywidget.observe(self.__observer, names=\"value\")\n",
    "\n",
    "    def __observer(self, change):\n",
    "        self.__on_value_change_cb(change[\"new\"])\n",
    "\n",
    "\n",
    "class TextBoxWidget(WidgetBase):\n",
    "    def __init__(self, on_value_change_cb, placeholder=\"Enter text...\"):\n",
    "        super().__init__(on_value_change_cb)\n",
    "        self._ipywidget = ipywidgets.Text(placeholder=placeholder, continuous_update=False)\n",
    "\n",
    "    def set_text(self, text):\n",
    "        self._ipywidget.value = text\n",
    "\n",
    "    def get_text(self):\n",
    "        return self._ipywidget.value\n",
    "\n",
    "\n",
    "class LabelWidget(WidgetBase):\n",
    "    def __init__(self, label):\n",
    "        super().__init__(lambda _unused: None)\n",
    "        self._ipywidget = ipywidgets.Label(label)\n",
    "\n",
    "    def set_text(self, text):\n",
    "        self._ipywidget.value = text\n",
    "\n",
    "\n",
    "class DropdownWidget(WidgetBase):\n",
    "    def __init__(self, on_value_changed_cb, options):\n",
    "        super().__init__(on_value_changed_cb)\n",
    "        self._ipywidget = ipywidgets.Dropdown(options=options)\n",
    "\n",
    "\n",
    "class ContainerWidget(list):\n",
    "    def attach(self):\n",
    "        for widget in self:\n",
    "            widget.attach()"
   ],
   "outputs": [],
   "execution_count": 2
  },
  {
   "cell_type": "markdown",
   "id": "cc7c8c14b846575e",
   "metadata": {},
   "source": [
    "Although we're dealing mostly with the UI delegate system in this notebook, we'll need a (basic) manager plugin too. Initially only to get a `Context`, but ultimately we'll need to illustrate how UI delegate and manager plugins may communicate."
   ]
  },
  {
   "cell_type": "code",
   "id": "142d7dc7308b67dd",
   "metadata": {
    "ExecuteTime": {
     "end_time": "2025-04-07T12:24:58.052854Z",
     "start_time": "2025-04-07T12:24:58.048011Z"
    }
   },
   "source": [
    "from openassetio.managerApi import ManagerInterface\n",
    "\n",
    "\n",
    "class NotebookManagerInterface(ManagerInterface):\n",
    "    \"\"\"\n",
    "    An absolutely minimal manager implementation.\n",
    "    \"\"\"\n",
    "\n",
    "    def entityTraits(\n",
    "            self,\n",
    "            entityReferences,\n",
    "            entityTraitsAccess,\n",
    "            context,\n",
    "            hostSession,\n",
    "            successCallback,\n",
    "            errorCallback,\n",
    "    ):\n",
    "        for idx, entity_ref in enumerate(entityReferences):\n",
    "            successCallback(idx, set())\n",
    "\n",
    "    def identifier(self):\n",
    "        return \"org.openassetio.example.notebook\"\n",
    "\n",
    "    def displayName(self):\n",
    "        return \"Notebook Manager\"\n",
    "\n",
    "    def hasCapability(self, capability):\n",
    "        return capability in (\n",
    "            ManagerInterface.Capability.kEntityReferenceIdentification,\n",
    "            ManagerInterface.Capability.kManagementPolicyQueries,\n",
    "            ManagerInterface.Capability.kEntityTraitIntrospection,\n",
    "        )\n",
    "\n",
    "    def isEntityReferenceString(self, someString, hostSession):\n",
    "        return someString.startswith(\"notebook://\")\n",
    "\n",
    "    def managementPolicy(self, traitSets, access, context, hostSession):\n",
    "        return [TraitsData() for _ in traitSets]"
   ],
   "outputs": [],
   "execution_count": 3
  },
  {
   "cell_type": "markdown",
   "id": "bdb6b1c1e58fff5a",
   "metadata": {},
   "source": [
    "In order to use this plugin, we need a plugin system to load it. Usually, a host would use the built-in `Hybrid`/`Python`/`CppPluginSystemManagerImplementationFactory`. However, for the purposes of this notebook we'll define a custom plugin system that will simply return an instance of our `NotebookManagerInterface` defined above."
   ]
  },
  {
   "cell_type": "code",
   "id": "938609802b4064d6",
   "metadata": {
    "ExecuteTime": {
     "end_time": "2025-04-07T12:24:58.101961Z",
     "start_time": "2025-04-07T12:24:58.099072Z"
    }
   },
   "source": [
    "from openassetio.hostApi import ManagerImplementationFactoryInterface\n",
    "\n",
    "\n",
    "class NotebookPluginSystemManagerImplementationFactory(ManagerImplementationFactoryInterface):\n",
    "\n",
    "    def identifiers(self):\n",
    "        return [\"org.openassetio.example.notebook\"]\n",
    "\n",
    "    def instantiate(self, identifier):\n",
    "        assert identifier == \"org.openassetio.example.notebook\"\n",
    "        return NotebookManagerInterface()"
   ],
   "outputs": [],
   "execution_count": 4
  },
  {
   "cell_type": "markdown",
   "id": "e6ccf857cebe91d7",
   "metadata": {},
   "source": [
    "With the notebook plugin system now available, we can use it to construct a `Manager` instance and from that retrieve a `Context`. We'll wrap the manager creation in a function for reuse later."
   ]
  },
  {
   "cell_type": "code",
   "id": "b6c214a2e5c27029",
   "metadata": {
    "ExecuteTime": {
     "end_time": "2025-04-07T12:24:58.168830Z",
     "start_time": "2025-04-07T12:24:58.165492Z"
    }
   },
   "source": [
    "from openassetio.hostApi import ManagerFactory\n",
    "\n",
    "\n",
    "def make_manager():\n",
    "    manager = ManagerFactory.createManagerForInterface(\n",
    "        \"org.openassetio.example.notebook\",\n",
    "        host_interface,\n",
    "        NotebookPluginSystemManagerImplementationFactory(logger),\n",
    "        logger,\n",
    "    )\n",
    "    manager.initialize({})\n",
    "    return manager\n",
    "\n",
    "\n",
    "manager = make_manager()\n",
    "context = manager.createContext()"
   ],
   "outputs": [],
   "execution_count": 5
  },
  {
   "cell_type": "markdown",
   "id": "757e395e0c0c01dd",
   "metadata": {},
   "source": [
    "## Hello UI"
   ]
  },
  {
   "cell_type": "markdown",
   "id": "372d29a9f17f3139",
   "metadata": {},
   "source": [
    "Let's start by defining the most minimal UI delegate plugin possible. The following UI delegate doesn't do anything interesting - it simply refuses any request."
   ]
  },
  {
   "cell_type": "code",
   "id": "3e4f5efe4b96c291",
   "metadata": {
    "ExecuteTime": {
     "end_time": "2025-04-07T12:24:58.220202Z",
     "start_time": "2025-04-07T12:24:58.214721Z"
    }
   },
   "source": [
    "from typing import Optional\n",
    "\n",
    "from openassetio import Context\n",
    "from openassetio.managerApi import HostSession\n",
    "from openassetio.trait import TraitsData\n",
    "from openassetio.ui.access import UIAccess\n",
    "from openassetio.ui.managerApi import (\n",
    "    UIDelegateInterface, UIDelegateRequest, UIDelegateStateInterface\n",
    ")\n",
    "\n",
    "\n",
    "InfoDictionary = dict[str, int | float | str | bool]\n",
    "\n",
    "\n",
    "class NotebookUIDelegateInterface(UIDelegateInterface):\n",
    "    def identifier(self):\n",
    "        return \"org.openassetio.example.notebook\"\n",
    "\n",
    "    def displayName(self):\n",
    "        return \"Notebook UI delegate\"\n",
    "\n",
    "    def info(self) -> InfoDictionary:\n",
    "        return super().info()  # <- adds `\"isPython\": True`\n",
    "\n",
    "    def initialize(self, uiDelegateSettings: InfoDictionary, hostSession: HostSession):\n",
    "        pass\n",
    "\n",
    "    def close(self, hostSession: HostSession):\n",
    "        pass\n",
    "\n",
    "    def settings(self, hostSession: HostSession) -> InfoDictionary:\n",
    "        return {}\n",
    "\n",
    "    def uiPolicy(\n",
    "            self, uiTraitSet: set[str], uiAccess: UIAccess, context: Context,\n",
    "            hostSession: HostSession\n",
    "    ) -> TraitsData:\n",
    "        policy = TraitsData()\n",
    "        return policy\n",
    "\n",
    "    def populateUI(\n",
    "            self,\n",
    "            uiTraitsData: TraitsData,\n",
    "            uiAccess: UIAccess,\n",
    "            uiRequest: UIDelegateRequest,\n",
    "            context: Context,\n",
    "            hostSession: HostSession,\n",
    "    ) -> Optional[UIDelegateStateInterface]:\n",
    "        return None"
   ],
   "outputs": [],
   "execution_count": 6
  },
  {
   "cell_type": "markdown",
   "id": "f5d0c3706b1e4e17",
   "metadata": {},
   "source": [
    "We have several methods that must be overridden from the base `UIDelegateInterface` class. Most of them mirror a method in manager plugins (`ManagerInterface`), and have similar usage.\n",
    "\n",
    "The `identifier` _must_ match the identifier of the corresponding manager plugin. It is this that is used to link the two plugins together, in particular when loading the plugin.\n",
    "\n",
    "`displayName` may be used by host applications for logging, plugin selection, etc.\n",
    "\n",
    "`info` may be used to communicate arbitrary metadata about the plugin as a simple string key - primitive value dictionary. Certain keys have a special meaning. For example `kInfoKey_IsPython` (`\"isPython\"`) indicates that the plugin is written in pure Python (this particular key is added to the `info()` in the default base class implementation for Python plugins).\n",
    "\n",
    "`initialize` must be called before the plugin can be used. It is called automatically by `UIDelegateFactory.defaultManagerForInterface()` - the `uiDelegateSettings` in this case will be the same settings as provided to the corresponding manager plugin, from the file specified by the `OPENASSETIO_DEFAULT_CONFIG` environment variable.\n",
    "\n",
    "`close` instructs the UI delegate to dispose of all held references and clean up ready for destruction. It is called automatically when the corresponding `UIDelegate` middleware instance, held by the host application, is destroyed. However, it can be called explicitly by the host to clean up and re-use the UI delegate.\n",
    "\n",
    "`settings` returns the current settings applied to the UI delegate (including any default values). These settings should reflect those passed in to `initialize`.\n",
    "\n",
    "`uiPolicy` is the UI delegation equivalent of a manager plugin's `managementPolicy` method. It allows hosts to introspect the capabilities and preferences of the plugin ahead of time. Note that a positive response from `uiPolicy` is necessary, but not sufficient, to guarantee a UI delegation request will be supported.\n",
    "\n",
    "`populateUI` is where the magic happens. It is this method that will be called to instantiate UI elements and set up a communication channel with the host. A return value of `None` indicates that UI delegation is not supported for the given arguments."
   ]
  },
  {
   "cell_type": "markdown",
   "id": "c881c5ea55f6349d",
   "metadata": {},
   "source": [
    "Since the above UI delegate plugin won't do anything interesting, let's redefine the `populateUI` method to render a text box."
   ]
  },
  {
   "cell_type": "code",
   "id": "4afe2c48a8c30b3",
   "metadata": {
    "ExecuteTime": {
     "end_time": "2025-04-07T12:24:58.277856Z",
     "start_time": "2025-04-07T12:24:58.274996Z"
    }
   },
   "source": [
    "class NotebookUIDelegateInterface(NotebookUIDelegateInterface):\n",
    "    def populateUI(self, uiTraitsData, uiAccess, request, context, hostSession):\n",
    "        def on_value_changed_cb(_some_text):\n",
    "            pass\n",
    "\n",
    "        TextBoxWidget(on_value_changed_cb).attach()\n",
    "\n",
    "        return UIDelegateStateInterface()"
   ],
   "outputs": [],
   "execution_count": 7
  },
  {
   "cell_type": "markdown",
   "id": "ee368f70f702fcb4",
   "metadata": {},
   "source": [
    "Note that we now return a `UIDelegateStateInterface()` object. This will signal to the host that the request was accepted. The `UIDelegateStateInterface` class (or rather, subclasses of it) allows information to be communicated back to the host application, and facilitates setting up a communication channel, as we will see shortly."
   ]
  },
  {
   "cell_type": "markdown",
   "id": "956ffcdce143d857",
   "metadata": {},
   "source": [
    "In order to use this plugin, we need a plugin system to load it. Usually, a host would use the built-in `Hybrid`/`Python`/`CppPluginSystemUIDelegateImplementationFactory`, in exactly the same way as for manager plugins (via a `Hybrid`/`Python`/`CppPluginSystemManagerImplementationFactory`). However, for the purposes of this notebook we'll define a custom plugin system that will simply return an instance of our `NotebookUIDelegateInterface` defined above."
   ]
  },
  {
   "cell_type": "code",
   "id": "ec8bf6e7010b1007",
   "metadata": {
    "ExecuteTime": {
     "end_time": "2025-04-07T12:24:58.324333Z",
     "start_time": "2025-04-07T12:24:58.321198Z"
    }
   },
   "source": [
    "from openassetio.ui.hostApi import UIDelegateImplementationFactoryInterface\n",
    "\n",
    "\n",
    "class NotebookPluginSystemUIDelegateFactory(UIDelegateImplementationFactoryInterface):\n",
    "\n",
    "    def identifiers(self):\n",
    "        return [\"org.openassetio.example.notebook\"]\n",
    "\n",
    "    def instantiate(self, identifier):\n",
    "        assert identifier == \"org.openassetio.example.notebook\"\n",
    "        return NotebookUIDelegateInterface()"
   ],
   "outputs": [],
   "execution_count": 8
  },
  {
   "cell_type": "markdown",
   "id": "9807107d55728790",
   "metadata": {},
   "source": [
    "Now we have this, let's put on our host application hat, and instantiate the plugin. We'll wrap the UI delegate creation in a function for reuse later."
   ]
  },
  {
   "cell_type": "code",
   "id": "269eca8405fde62c",
   "metadata": {
    "ExecuteTime": {
     "end_time": "2025-04-07T12:24:58.385721Z",
     "start_time": "2025-04-07T12:24:58.382695Z"
    }
   },
   "source": [
    "from openassetio.ui.hostApi import UIDelegateFactory\n",
    "\n",
    "\n",
    "def make_ui_delegate():\n",
    "    ui_delegate = UIDelegateFactory.createUIDelegateForInterface(\n",
    "        \"org.openassetio.example.notebook\",\n",
    "        host_interface,\n",
    "        NotebookPluginSystemUIDelegateFactory(logger),\n",
    "        logger,\n",
    "    )\n",
    "    # We must be sure to `initialize` with relevant settings. This is\n",
    "    # done automatically if `defaultUIDelegateForInterface()` was used\n",
    "    # instead, using the settings from the `OPENASSETIO_DEFAULT_CONFIG`\n",
    "    # file (same as for manager plugins).\n",
    "    ui_delegate.initialize({})\n",
    "    return ui_delegate\n",
    "\n",
    "\n",
    "ui_delegate = make_ui_delegate()"
   ],
   "outputs": [],
   "execution_count": 9
  },
  {
   "cell_type": "markdown",
   "id": "419de31fa7fbe081",
   "metadata": {},
   "source": [
    "Now let's delegate some UI!"
   ]
  },
  {
   "cell_type": "code",
   "id": "d2bcae0019dcb415",
   "metadata": {
    "ExecuteTime": {
     "end_time": "2025-04-07T12:24:58.447028Z",
     "start_time": "2025-04-07T12:24:58.440978Z"
    }
   },
   "source": [
    "from openassetio.trait import TraitsData\n",
    "from openassetio.ui.access import UIAccess\n",
    "from openassetio.ui.hostApi import UIDelegateRequestInterface\n",
    "\n",
    "\n",
    "ui_traits_data = TraitsData()\n",
    "ui_request = UIDelegateRequestInterface()\n",
    "\n",
    "initial_state = ui_delegate.populateUI(ui_traits_data, UIAccess.kRead, ui_request, context)"
   ],
   "outputs": [
    {
     "data": {
      "text/plain": [
       "Text(value='', continuous_update=False, placeholder='Enter text...')"
      ],
      "application/vnd.jupyter.widget-view+json": {
       "version_major": 2,
       "version_minor": 0,
       "model_id": "3fc70a9b58be4428b5ed73f0e56b7074"
      }
     },
     "metadata": {},
     "output_type": "display_data"
    }
   ],
   "execution_count": 10
  },
  {
   "cell_type": "markdown",
   "id": "85f749808cf3ac07",
   "metadata": {},
   "source": [
    "Success! Note that the call to the UI delegate is parameterised on UI-specific traits, an access mode, and a `UIDelegateRequestInterface` object. The `UIDelegateRequestInterface` object is the host-side version of the `UIDelegateStateInterface` object. It allows information to be communicated from the host application to the UI delegate. Together the `UIDelegateRequestInterface` and `UIDelegateStateInterface` (or rather, subclasses of these) classes provide the primary means of back-and-forth communication, as we will see shortly.\n",
    "\n",
    "Note that the \"other side\" of the API receives a middleware type wrapping the interface type. That is, the UI delegate plugin receives a `UIDelegateRequest` object that wraps the `UIDelegateRequestInterface` provided by the host; and the host receives a `UIDelegateState` object that wraps the `UIDelegateStateInterface` provided by the UI delegate plugin. The middleware types have the same accessors as the interface types, but allow additional validation and other functionality to be injected by OpenAssetIO.\n",
    "\n",
    "In particular, the `UIDelegateRequest` exposes `entityReferences()`, `entityTraitsDatas()`, `nativeData()` and `stateChangedCallback()` methods, whereas the `UIDelegateState` exposes `entityReferences()`, `entityTraitsDatas()`, `nativeData()` and `updateRequestCallback()` methods.  These will be discussed in turn in the following sections.\n",
    "\n",
    "Clearly the above widget still isn't very useful. For starters, we currently have no way to extract the value that the user inputs into the widget.\n"
   ]
  },
  {
   "cell_type": "markdown",
   "id": "2b5c1aba4b46b1e3",
   "metadata": {},
   "source": [
    "## stateChangedCallback"
   ]
  },
  {
   "cell_type": "markdown",
   "id": "9d61b9f50d50fa04",
   "metadata": {},
   "source": [
    "Since the widget is an opaque black box as far as the host is concerned, we need to ask the plugin to communicate salient information back to the host whenever the plugin feels it is relevant to do so. For this we'll augment our `UIDelegateRequestInterface` instance with a callback.\n",
    "\n",
    "So let's assume a callback is provided and redefine the `populateUI` method to use it. The callback takes a `UIDelegateStateInterface`, which is a base class that needs implementing by the UI delegate. We'll build up a simple implementation, starting with a way to provide a list of entity references.\n"
   ]
  },
  {
   "cell_type": "code",
   "id": "90259132467da9d",
   "metadata": {
    "ExecuteTime": {
     "end_time": "2025-04-07T12:24:58.521051Z",
     "start_time": "2025-04-07T12:24:58.517020Z"
    }
   },
   "source": [
    "from openassetio import EntityReference\n",
    "\n",
    "\n",
    "class NotebookUIDelegateState(UIDelegateStateInterface):\n",
    "    \"\"\"\n",
    "    Initial implementation just supports getting/setting a list of\n",
    "    entity references.\n",
    "    \"\"\"\n",
    "\n",
    "    def __init__(self):\n",
    "        UIDelegateStateInterface.__init__(self)\n",
    "        self.__entity_references = []\n",
    "\n",
    "    def entityReferences(self):\n",
    "        # Override base class, which just returns an empty list.\n",
    "        return self.__entity_references\n",
    "\n",
    "    def setEntityReferences(self, entity_references):\n",
    "        self.__entity_references = entity_references\n",
    "\n",
    "\n",
    "class NotebookUIDelegateInterface(NotebookUIDelegateInterface):\n",
    "    def populateUI(self, uiTraitsData, uiAccess, request, context, hostSession):\n",
    "        current_state = NotebookUIDelegateState()\n",
    "\n",
    "        def on_value_changed_cb(some_text):\n",
    "            current_state.setEntityReferences([EntityReference(\"notebook://\" + some_text)])\n",
    "            if state_changed_cb := request.stateChangedCallback():\n",
    "                state_changed_cb(current_state)\n",
    "\n",
    "        TextBoxWidget(on_value_changed_cb).attach()\n",
    "\n",
    "        return current_state"
   ],
   "outputs": [],
   "execution_count": 11
  },
  {
   "cell_type": "markdown",
   "id": "ab17464959e543df",
   "metadata": {},
   "source": [
    "We see that the `UIDelegateRequest` object can carry a `stateChangedCallback`, which is a function of a single parameter, a `UIDelegateStateInterface` instance. The UI delegate plugin should fill in as much information as it can in the `UIDelegateStateInterface`. We'll examine the other properties of this class later.\n",
    "\n",
    "Let's now make use of this redefined plugin on the host side. Similar to the `UIDelegateStateInterface`, the `UIDelegateRequestInterface` class is just a stub by default and needs subclassing to provide its functionality."
   ]
  },
  {
   "cell_type": "code",
   "id": "a0e8d951da41c4ec",
   "metadata": {
    "ExecuteTime": {
     "end_time": "2025-04-07T12:24:58.575465Z",
     "start_time": "2025-04-07T12:24:58.566192Z"
    }
   },
   "source": [
    "class NotebookHostUIRequest(UIDelegateRequestInterface):\n",
    "    \"\"\"\n",
    "    Initial implementation just supports setting a callback for state\n",
    "    changes.\n",
    "    \"\"\"\n",
    "\n",
    "    def __init__(self, stateChangedCallback=None):\n",
    "        UIDelegateRequestInterface.__init__(self)\n",
    "        self.__state_changed_cb = stateChangedCallback\n",
    "\n",
    "    def stateChangedCallback(self):\n",
    "        # Override base class implementation, which just returns None.\n",
    "        return self.__state_changed_cb\n",
    "\n",
    "\n",
    "def closure():\n",
    "    ui_delegate = make_ui_delegate()  # Must make a new instance since we redefined the class.\n",
    "\n",
    "    instructions = ipywidgets.Output()\n",
    "    entity_refs_output = ipywidgets.Output()\n",
    "\n",
    "    with instructions:\n",
    "        print(\"Type some text and press ENTER\")\n",
    "    display(instructions)\n",
    "\n",
    "    def state_changed_cb(new_state):\n",
    "        entity_refs_output.clear_output()\n",
    "        with entity_refs_output:\n",
    "            print(f\"From UI delegate: {new_state.entityReferences()}\")\n",
    "\n",
    "    ui_request = NotebookHostUIRequest(stateChangedCallback=state_changed_cb)\n",
    "\n",
    "    _initial_state = ui_delegate.populateUI(ui_traits_data, UIAccess.kRead, ui_request, context)\n",
    "\n",
    "    display(entity_refs_output)\n",
    "\n",
    "\n",
    "closure()"
   ],
   "outputs": [
    {
     "data": {
      "text/plain": [
       "Output()"
      ],
      "application/vnd.jupyter.widget-view+json": {
       "version_major": 2,
       "version_minor": 0,
       "model_id": "8117b3c1607b4cf69ce5b5926cd22fc1"
      }
     },
     "metadata": {},
     "output_type": "display_data"
    },
    {
     "data": {
      "text/plain": [
       "Text(value='', continuous_update=False, placeholder='Enter text...')"
      ],
      "application/vnd.jupyter.widget-view+json": {
       "version_major": 2,
       "version_minor": 0,
       "model_id": "561a726e6d7e43b9b1107acbb40e46a0"
      }
     },
     "metadata": {},
     "output_type": "display_data"
    },
    {
     "data": {
      "text/plain": [
       "Output()"
      ],
      "application/vnd.jupyter.widget-view+json": {
       "version_major": 2,
       "version_minor": 0,
       "model_id": "e442f40fb7c84ebdb658ca7f9d873c74"
      }
     },
     "metadata": {},
     "output_type": "display_data"
    }
   ],
   "execution_count": 12
  },
  {
   "cell_type": "markdown",
   "id": "24d47087bf0c3384",
   "metadata": {},
   "source": [
    "If viewing this notebook in Jupyter, we can input some text in the box and hit ENTER (or defocus the text box), and see a list of entity references returned from the UI delegate plugin, constructed from the given user input!"
   ]
  },
  {
   "cell_type": "markdown",
   "id": "b4c2bed513dd2719",
   "metadata": {},
   "source": [
    "## nativeData"
   ]
  },
  {
   "cell_type": "markdown",
   "id": "e71257bd550aac63",
   "metadata": {},
   "source": [
    "Typically, a host application will consist of a complex UI hierarchy, and we want to place the UI delegate widgets in a specific location in that hierarchy. So far, our UI delegate is just blindly rendering the widget immediately on calling `populateUI`.\n",
    "\n",
    "For example, the host application may want to retrieve a \"detached\" widget, which the host can then place in the hierarchy itself. Alternatively, the host may have a UI panel that it wishes the plugin to populate. Or perhaps the application uses an immediate-mode UI framework, where the \"widget\" is actually a function that is called every frame...\n",
    "\n",
    "In order to cover the maximum number of use cases, two `nativeData` objects are provided - one in the `UIDelegateRequest` and one in the `UIDelegateState`. These can be any arbitrary object, and it is up to the host application to document its expectations for how these are used.\n"
   ]
  },
  {
   "cell_type": "markdown",
   "id": "afa3a8bffddd54c8",
   "metadata": {},
   "source": [
    "Let's make a slightly more complex host UI and use `nativeData` to get a widget detached from the hierarchy until the host wishes to render it.\n",
    "\n",
    "We'll first need to add support for `nativeData` to our state, and redefine `populateUI` to use it"
   ]
  },
  {
   "cell_type": "code",
   "id": "475828935335e3fe",
   "metadata": {
    "ExecuteTime": {
     "end_time": "2025-04-07T12:24:58.630419Z",
     "start_time": "2025-04-07T12:24:58.626496Z"
    }
   },
   "source": [
    "\n",
    "class NotebookUIDelegateState(NotebookUIDelegateState):\n",
    "    \"\"\"\n",
    "    Redefine to add support for nativeData.\n",
    "    \"\"\"\n",
    "\n",
    "    def __init__(self):\n",
    "        super().__init__()\n",
    "        self.__native_data = None\n",
    "\n",
    "    def nativeData(self):\n",
    "        # Override base class, which just returns None.\n",
    "        return self.__native_data\n",
    "\n",
    "    def setNativeData(self, native_data):\n",
    "        self.__native_data = native_data\n",
    "\n",
    "\n",
    "class NotebookUIDelegateInterface(NotebookUIDelegateInterface):\n",
    "    def populateUI(self, uiTraitsData, uiAccess, request, context, hostSession):\n",
    "        current_state = NotebookUIDelegateState()\n",
    "\n",
    "        def on_value_changed_cb(some_text):\n",
    "            current_state.setEntityReferences([EntityReference(\"notebook://\" + some_text)])\n",
    "            if state_changed_cb := request.stateChangedCallback():\n",
    "                state_changed_cb(current_state)\n",
    "\n",
    "        widget = TextBoxWidget(on_value_changed_cb)  # No longer calling `.attach()`\n",
    "\n",
    "        current_state.setNativeData(widget)\n",
    "\n",
    "        return current_state"
   ],
   "outputs": [],
   "execution_count": 13
  },
  {
   "cell_type": "markdown",
   "id": "117d61f60a479394",
   "metadata": {},
   "source": [
    "Now we can construct a host UI, with the delegated widget inserted in the correct location"
   ]
  },
  {
   "cell_type": "code",
   "id": "187b1a17301ab1a",
   "metadata": {
    "ExecuteTime": {
     "end_time": "2025-04-07T12:24:58.685666Z",
     "start_time": "2025-04-07T12:24:58.678315Z"
    }
   },
   "source": [
    "def closure():\n",
    "    ui_delegate = make_ui_delegate()\n",
    "\n",
    "    entity_ref_output_label = LabelWidget(\"\")\n",
    "\n",
    "    def state_changed_cb(new_state):\n",
    "        entity_ref_output_label.set_text(f\"From UI delegate: {new_state.entityReferences()}\")\n",
    "\n",
    "    ui_request = NotebookHostUIRequest(stateChangedCallback=state_changed_cb)\n",
    "\n",
    "    initial_state = ui_delegate.populateUI(ui_traits_data, UIAccess.kRead, ui_request, context)\n",
    "\n",
    "    container = ContainerWidget()\n",
    "    container.append(LabelWidget(\"Type some text and press ENTER\"))\n",
    "    container.append(initial_state.nativeData())\n",
    "    container.append(entity_ref_output_label)\n",
    "    container.attach()\n",
    "\n",
    "\n",
    "closure()"
   ],
   "outputs": [
    {
     "data": {
      "text/plain": [
       "Label(value='Type some text and press ENTER')"
      ],
      "application/vnd.jupyter.widget-view+json": {
       "version_major": 2,
       "version_minor": 0,
       "model_id": "a7c48400917e441b8b8a220476720463"
      }
     },
     "metadata": {},
     "output_type": "display_data"
    },
    {
     "data": {
      "text/plain": [
       "Text(value='', continuous_update=False, placeholder='Enter text...')"
      ],
      "application/vnd.jupyter.widget-view+json": {
       "version_major": 2,
       "version_minor": 0,
       "model_id": "d44bdb123ce443afa2f69fd0e79755b4"
      }
     },
     "metadata": {},
     "output_type": "display_data"
    },
    {
     "data": {
      "text/plain": [
       "Label(value='')"
      ],
      "application/vnd.jupyter.widget-view+json": {
       "version_major": 2,
       "version_minor": 0,
       "model_id": "72697325cf9048af9bfcefd00e42c8f7"
      }
     },
     "metadata": {},
     "output_type": "display_data"
    }
   ],
   "execution_count": 14
  },
  {
   "cell_type": "markdown",
   "id": "34fee37f74c9599a",
   "metadata": {},
   "source": [
    "## UI traits"
   ]
  },
  {
   "cell_type": "markdown",
   "id": "4039db025b361dc4",
   "metadata": {},
   "source": [
    "Now we can request a new \"detached\" widget, to be placed in the UI hierarchy by the host. But what if we want the UI delegate to populate a pre-existing UI element instead? Or, perhaps we want both - we want the UI delegate to populate a container _and_ return the newly created element?\n",
    "\n",
    "To solve this we'll make use of the `nativeData` on the `UIDelegateRequest`, and instruct the UI delegate's behaviour by populating the `uiTraitsData` argument.\n",
    "\n",
    "The `uiTraitsData` holds OpenAssetIO _traits_. Traits are used for various purposes across OpenAssetIO - for defining the qualities and properties of entities and their relationships, for defining management policies, and here, for defining the desired qualities and behaviour of the delegated UI element.\n"
   ]
  },
  {
   "cell_type": "code",
   "id": "7f0087d979534be2",
   "metadata": {
    "ExecuteTime": {
     "end_time": "2025-04-07T12:24:58.747947Z",
     "start_time": "2025-04-07T12:24:58.743668Z"
    }
   },
   "source": [
    "from openassetio_mediacreation.traits.ui import DetachedTrait, InPlaceTrait, SingularTrait\n",
    "\n",
    "\n",
    "class NotebookUIDelegateInterface(NotebookUIDelegateInterface):\n",
    "    def populateUI(self, uiTraitsData, uiAccess, request, context, hostSession):\n",
    "\n",
    "        # <===== New code here\n",
    "        if not SingularTrait.isImbuedTo(uiTraitsData):\n",
    "            # We can only supply a single entity reference.\n",
    "            return None\n",
    "        # ===================>\n",
    "\n",
    "        current_state = NotebookUIDelegateState()\n",
    "\n",
    "        def on_value_changed_cb(some_text):\n",
    "            current_state.setEntityReferences([EntityReference(\"notebook://\" + some_text)])\n",
    "            if state_changed_cb := request.stateChangedCallback():\n",
    "                state_changed_cb(current_state)\n",
    "\n",
    "        widget = TextBoxWidget(on_value_changed_cb)\n",
    "\n",
    "        # <===== New code here\n",
    "        if DetachedTrait.isImbuedTo(uiTraitsData):\n",
    "            # Host wants a reference to the new widget.\n",
    "            current_state.setNativeData(widget)\n",
    "\n",
    "        if InPlaceTrait.isImbuedTo(uiTraitsData):\n",
    "            # Host wants a container to be populated.\n",
    "            container = request.nativeData()\n",
    "            container.append(widget)\n",
    "        # ===================>\n",
    "\n",
    "        return current_state"
   ],
   "outputs": [],
   "execution_count": 15
  },
  {
   "cell_type": "markdown",
   "id": "6a3cec5076cfb025",
   "metadata": {},
   "source": [
    "The `SingularTrait` indicates that the host only wants or provides a single element, in this case an entity reference. The `InPlaceTrait` and `DetachedTrait` are used above to modify the native behaviour of the UI delegate. By adding more traits we can be even more specific about the kind of UI that we want.\n",
    "\n",
    "So far we can only populate the UI with a single type of widget - an inline entity-providing widget (in this case a simple text box, but it could be something more imaginative). What if we wanted to instead display an asset browser (e.g. to replace a typical File->Open menu dialog)? Again, we can use traits to instruct the UI delegate."
   ]
  },
  {
   "cell_type": "code",
   "id": "7e72773082df58f7",
   "metadata": {
    "ExecuteTime": {
     "end_time": "2025-04-07T12:24:58.797924Z",
     "start_time": "2025-04-07T12:24:58.793058Z"
    }
   },
   "source": [
    "from openassetio_mediacreation.traits.ui import EntityProviderTrait, InlineTrait, BrowserTrait\n",
    "\n",
    "\n",
    "class NotebookUIDelegateInterface(NotebookUIDelegateInterface):\n",
    "    def populateUI(self, uiTraitsData, uiAccess, request, context, hostSession):\n",
    "\n",
    "        if not SingularTrait.isImbuedTo(uiTraitsData):\n",
    "            # We can only supply a single entity reference.\n",
    "            return None\n",
    "\n",
    "        current_state = NotebookUIDelegateState()\n",
    "\n",
    "        def on_value_changed_cb(some_text):\n",
    "            current_state.setEntityReferences([EntityReference(\"notebook://\" + some_text)])\n",
    "            if state_changed_cb := request.stateChangedCallback():\n",
    "                state_changed_cb(current_state)\n",
    "\n",
    "        # <===== New code here\n",
    "        ui_trait_set = uiTraitsData.traitSet()\n",
    "\n",
    "        if {EntityProviderTrait.kId, InlineTrait.kId} <= ui_trait_set:\n",
    "            widget = TextBoxWidget(on_value_changed_cb)\n",
    "\n",
    "        elif {EntityProviderTrait.kId, BrowserTrait.kId} <= ui_trait_set:\n",
    "            widget = DropdownWidget(on_value_changed_cb, [\"first/entity\", \"second/entity\"])\n",
    "        else:\n",
    "            # We don't support other kinds of UI.\n",
    "            return None\n",
    "        # ===================>\n",
    "\n",
    "        if DetachedTrait.isImbuedTo(uiTraitsData):\n",
    "            # Host wants a reference to the new widget.\n",
    "            current_state.setNativeData(widget)\n",
    "\n",
    "        if InPlaceTrait.isImbuedTo(uiTraitsData):\n",
    "            # Host wants a container to be populated.\n",
    "            container = request.nativeData()\n",
    "            container.append(widget)\n",
    "\n",
    "        return current_state"
   ],
   "outputs": [],
   "execution_count": 16
  },
  {
   "cell_type": "markdown",
   "id": "559c0718dc3f901e",
   "metadata": {},
   "source": [
    "Above, we use a simple dropdown widget as our \"asset browser\", but typically this would be a much more complex UI element. The `EntityProviderTrait` indicates that host wants the UI delegate to provide entity references. The `InlineTrait` indicates that the widget should be compact enough to share its container with other widgets, typically on a single row. The `BrowserTrait` indicates that the widget should guide the user through multiple options.\n",
    "\n",
    "Let's use this new functionality on the host side. For illustration, we'll request a detached widget for the browser, and mutate an existing container in-place for the inline box."
   ]
  },
  {
   "cell_type": "code",
   "id": "1af7ffd612b5ea6e",
   "metadata": {
    "ExecuteTime": {
     "end_time": "2025-04-07T12:24:58.856534Z",
     "start_time": "2025-04-07T12:24:58.842812Z"
    }
   },
   "source": [
    "class NotebookHostUIRequest(NotebookHostUIRequest):\n",
    "    \"\"\"\n",
    "    Redefine to add support for nativeData.\n",
    "    \"\"\"\n",
    "\n",
    "    def __init__(self, nativeData=None, **kwargs):\n",
    "        super().__init__(**kwargs)\n",
    "        self.__native_data = nativeData\n",
    "\n",
    "    def nativeData(self):\n",
    "        # Override base class implementation, which just returns None.\n",
    "        return self.__native_data\n",
    "\n",
    "\n",
    "def closure():\n",
    "    ui_delegate = make_ui_delegate()\n",
    "    container = ContainerWidget()\n",
    "\n",
    "    ####################################################################\n",
    "    # First lets display the \"asset browser\".\n",
    "\n",
    "    # UI traits for an entity browser.\n",
    "    ui_traits_data = TraitsData({EntityProviderTrait.kId, SingularTrait.kId, BrowserTrait.kId})\n",
    "    # We'll request a \"detached\" widget for the browser.\n",
    "    DetachedTrait.imbueTo(ui_traits_data)\n",
    "\n",
    "    browser_output_label = LabelWidget(\"From browser...\")\n",
    "\n",
    "    def browser_state_changed_cb(new_state):\n",
    "        browser_output_label.set_text(f\"From browser: {new_state.entityReferences()}\")\n",
    "\n",
    "    ui_request = NotebookHostUIRequest(stateChangedCallback=browser_state_changed_cb)\n",
    "\n",
    "    initial_browser_state = ui_delegate.populateUI(\n",
    "        ui_traits_data, UIAccess.kRead, ui_request, context\n",
    "    )\n",
    "\n",
    "    # Add the detached widget to the container.\n",
    "    container.append(initial_browser_state.nativeData())\n",
    "    container.append(browser_output_label)\n",
    "\n",
    "    ####################################################################\n",
    "    # Now move on to the inline entity box.\n",
    "\n",
    "    container.append(LabelWidget(\"Type some text and press ENTER\"))\n",
    "\n",
    "    # UI traits for an inline entity box.\n",
    "    ui_traits_data = TraitsData({EntityProviderTrait.kId, SingularTrait.kId, InlineTrait.kId})\n",
    "    # We'll ask the UI delegate to mutate the container to add the\n",
    "    # inline entity box.\n",
    "    InPlaceTrait.imbueTo(ui_traits_data)\n",
    "\n",
    "    inline_entity_output_label = LabelWidget(\"From inline...\")\n",
    "\n",
    "    def inline_entity_state_changed_cb(new_state):\n",
    "        inline_entity_output_label.set_text(f\"From inline: {new_state.entityReferences()}\")\n",
    "\n",
    "    ui_request = NotebookHostUIRequest(\n",
    "        # Note that due to `InPlaceTrait`, we need to provide the\n",
    "        # container widget within the request, so it can be populated.\n",
    "        nativeData=container,\n",
    "        stateChangedCallback=inline_entity_state_changed_cb,\n",
    "    )\n",
    "\n",
    "    ui_delegate.populateUI(ui_traits_data, UIAccess.kRead, ui_request, context)\n",
    "\n",
    "    # Widget was added to the container by the delegate, so we only need\n",
    "    # to add the host-side elements.\n",
    "    container.append(inline_entity_output_label)\n",
    "    container.attach()\n",
    "\n",
    "\n",
    "closure()"
   ],
   "outputs": [
    {
     "data": {
      "text/plain": [
       "Dropdown(options=('first/entity', 'second/entity'), value='first/entity')"
      ],
      "application/vnd.jupyter.widget-view+json": {
       "version_major": 2,
       "version_minor": 0,
       "model_id": "0e0540b96eb34389b37370424da25dbb"
      }
     },
     "metadata": {},
     "output_type": "display_data"
    },
    {
     "data": {
      "text/plain": [
       "Label(value='From browser...')"
      ],
      "application/vnd.jupyter.widget-view+json": {
       "version_major": 2,
       "version_minor": 0,
       "model_id": "8d7c9ab16fb54567b30bf9e2799672e4"
      }
     },
     "metadata": {},
     "output_type": "display_data"
    },
    {
     "data": {
      "text/plain": [
       "Label(value='Type some text and press ENTER')"
      ],
      "application/vnd.jupyter.widget-view+json": {
       "version_major": 2,
       "version_minor": 0,
       "model_id": "82eeff3aff324b738c094b6292efffae"
      }
     },
     "metadata": {},
     "output_type": "display_data"
    },
    {
     "data": {
      "text/plain": [
       "Text(value='', continuous_update=False, placeholder='Enter text...')"
      ],
      "application/vnd.jupyter.widget-view+json": {
       "version_major": 2,
       "version_minor": 0,
       "model_id": "47a4eb6923cb4f5d927b5b3578e70f5f"
      }
     },
     "metadata": {},
     "output_type": "display_data"
    },
    {
     "data": {
      "text/plain": [
       "Label(value='From inline...')"
      ],
      "application/vnd.jupyter.widget-view+json": {
       "version_major": 2,
       "version_minor": 0,
       "model_id": "de957c2cbd1444fd872dc24caddca75c"
      }
     },
     "metadata": {},
     "output_type": "display_data"
    }
   ],
   "execution_count": 17
  },
  {
   "cell_type": "markdown",
   "id": "4e50a5cf75bf7dcb",
   "metadata": {},
   "source": [
    "## updateRequestCallback"
   ]
  },
  {
   "cell_type": "markdown",
   "id": "334a868e87d7ca3d",
   "metadata": {},
   "source": [
    "A typcial workflow might be to browse for an asset, then populate an inline entity box with the result. The key functionality we need to do this is another communication channel - this time from the host application to the UI delegate. For this we'll make use of the `UIDelegateState` object's `updateRequestCallback`."
   ]
  },
  {
   "cell_type": "code",
   "id": "a9e7fa9c3c72ec15",
   "metadata": {
    "ExecuteTime": {
     "end_time": "2025-04-07T12:24:58.922090Z",
     "start_time": "2025-04-07T12:24:58.917320Z"
    }
   },
   "source": [
    "class NotebookUIDelegateState(NotebookUIDelegateState):\n",
    "    \"\"\"\n",
    "    Redefine to add support for updateRequestCallback.\n",
    "    \"\"\"\n",
    "\n",
    "    def __init__(self):\n",
    "        super().__init__()\n",
    "        self.__update_request_cb = None\n",
    "\n",
    "    def updateRequestCallback(self):\n",
    "        # Override base class, which just returns None.\n",
    "        return self.__update_request_cb\n",
    "\n",
    "    def setUpdateRequestCallback(self, update_request_cb):\n",
    "        self.__update_request_cb = update_request_cb\n",
    "\n",
    "\n",
    "class NotebookUIDelegateInterface(NotebookUIDelegateInterface):\n",
    "    def populateUI(self, uiTraitsData, uiAccess, request, context, hostSession):\n",
    "\n",
    "        if not SingularTrait.isImbuedTo(uiTraitsData):\n",
    "            # We can only supply a single entity reference.\n",
    "            return None\n",
    "\n",
    "        current_state = NotebookUIDelegateState()\n",
    "\n",
    "        def on_value_changed_cb(some_text):\n",
    "            current_state.setEntityReferences([EntityReference(\"notebook://\" + some_text)])\n",
    "            if state_changed_cb := request.stateChangedCallback():\n",
    "                state_changed_cb(current_state)\n",
    "\n",
    "        ui_trait_set = uiTraitsData.traitSet()\n",
    "\n",
    "        if {EntityProviderTrait.kId, InlineTrait.kId} <= ui_trait_set:\n",
    "            widget = TextBoxWidget(on_value_changed_cb)\n",
    "\n",
    "            # <===== New code here\n",
    "            def on_request_updated(new_request):\n",
    "                if new_request is None:\n",
    "                    # None means \"request finished\", i.e. clean up.\n",
    "                    return\n",
    "                if entity_refs := new_request.entityReferences():\n",
    "                    # Set the text box text to the stringified entity\n",
    "                    # reference, without the \"notebook://\" prefix.\n",
    "                    widget.set_text(entity_refs[0].toString()[len(\"notebook://\"):])\n",
    "\n",
    "            current_state.setUpdateRequestCallback(on_request_updated)\n",
    "            on_request_updated(request)  # Initialise using initial request.\n",
    "            # ===================>\n",
    "\n",
    "        elif {EntityProviderTrait.kId, BrowserTrait.kId} <= ui_trait_set:\n",
    "            widget = DropdownWidget(on_value_changed_cb, [\"first/entity\", \"second/entity\"])\n",
    "\n",
    "        else:\n",
    "            # We don't support other kinds of UI.\n",
    "            return None\n",
    "\n",
    "        if DetachedTrait.isImbuedTo(uiTraitsData):\n",
    "            # Host wants a reference to the new widget.\n",
    "            current_state.setNativeData(widget)\n",
    "\n",
    "        if InPlaceTrait.isImbuedTo(uiTraitsData):\n",
    "            # Host wants a container to be populated.\n",
    "            container = request.nativeData()\n",
    "            container.append(widget)\n",
    "\n",
    "        return current_state"
   ],
   "outputs": [],
   "execution_count": 18
  },
  {
   "cell_type": "markdown",
   "id": "3adaec0b5b981110",
   "metadata": {},
   "source": [
    "Note that we must check if the `new_request` is `None`. If so, it means the host is done with the request, i.e. the UI element is or should be destroyed and all callbacks and state are now invalid. The UI delegate should clean up in this case, e.g. disposing of any dangling references.\n",
    "\n",
    "We can now link the two UI elements on the host side. We'll re-order widget creation, and make them both detached so we can assemble them in the container in the correct order."
   ]
  },
  {
   "cell_type": "code",
   "id": "14f1954ba0865819",
   "metadata": {
    "ExecuteTime": {
     "end_time": "2025-04-07T12:24:59.004719Z",
     "start_time": "2025-04-07T12:24:58.992444Z"
    }
   },
   "source": [
    "class NotebookHostUIRequest(NotebookHostUIRequest):\n",
    "    \"\"\"\n",
    "    Redefine to add support for entityReferences.\n",
    "    \"\"\"\n",
    "\n",
    "    def __init__(self, entityReferences=None, **kwargs):\n",
    "        super().__init__(**kwargs)\n",
    "        self.__entity_references = entityReferences\n",
    "\n",
    "    def entityReferences(self):\n",
    "        # Override base class implementation, which just returns an\n",
    "        # empty list.\n",
    "        return self.__entity_references\n",
    "\n",
    "    def setEntityReferences(self, entity_references):\n",
    "        self.__entity_references = entity_references\n",
    "\n",
    "\n",
    "def closure():\n",
    "    ui_delegate = make_ui_delegate()\n",
    "\n",
    "    # UI for inline entity box.\n",
    "\n",
    "    ui_traits_data = TraitsData(\n",
    "        {EntityProviderTrait.kId, SingularTrait.kId, InlineTrait.kId, DetachedTrait.kId}\n",
    "    )\n",
    "\n",
    "    inline_entity_output_label = LabelWidget(\"\")\n",
    "\n",
    "    def inline_entity_state_changed_cb(new_inline_entity_state):\n",
    "        inline_entity_output_label.set_text(\n",
    "            f\"Result: {new_inline_entity_state.entityReferences()}\"\n",
    "        )\n",
    "\n",
    "    inline_entity_ui_request = NotebookHostUIRequest(\n",
    "        # Set default initial request state.\n",
    "        entityReferences=[EntityReference(\"notebook://default/entity\")],\n",
    "        stateChangedCallback=inline_entity_state_changed_cb,\n",
    "    )\n",
    "\n",
    "    initial_inline_entity_state = ui_delegate.populateUI(\n",
    "        ui_traits_data, UIAccess.kRead, inline_entity_ui_request, context\n",
    "    )\n",
    "\n",
    "    # UI for an entity browser.\n",
    "\n",
    "    ui_traits_data = TraitsData(\n",
    "        {EntityProviderTrait.kId, SingularTrait.kId, BrowserTrait.kId, DetachedTrait.kId}\n",
    "    )\n",
    "\n",
    "    # When the browser provides a state update, update the request to\n",
    "    # the inline entity box with the entity references from the browser.\n",
    "    def browser_state_changed_cb(new_browser_state):\n",
    "        inline_entity_ui_request.setEntityReferences(new_browser_state.entityReferences())\n",
    "        if update_request_cb := initial_inline_entity_state.updateRequestCallback():\n",
    "            update_request_cb(inline_entity_ui_request)\n",
    "\n",
    "    browser_ui_request = NotebookHostUIRequest(stateChangedCallback=browser_state_changed_cb)\n",
    "\n",
    "    initial_browser_state = ui_delegate.populateUI(\n",
    "        ui_traits_data, UIAccess.kRead, browser_ui_request, context\n",
    "    )\n",
    "\n",
    "    # Assemble everything into a container and render.\n",
    "\n",
    "    container = ContainerWidget()\n",
    "    # Add the detached widget to the container.\n",
    "    container.append(initial_browser_state.nativeData())\n",
    "    container.append(LabelWidget(\"Choose from above, or type some text and press ENTER\"))\n",
    "    container.append(initial_inline_entity_state.nativeData())\n",
    "    container.append(inline_entity_output_label)\n",
    "    container.attach()\n",
    "\n",
    "\n",
    "closure()"
   ],
   "outputs": [
    {
     "data": {
      "text/plain": [
       "Dropdown(options=('first/entity', 'second/entity'), value='first/entity')"
      ],
      "application/vnd.jupyter.widget-view+json": {
       "version_major": 2,
       "version_minor": 0,
       "model_id": "5935e15e2fa14dd287644d8e4ec8f8be"
      }
     },
     "metadata": {},
     "output_type": "display_data"
    },
    {
     "data": {
      "text/plain": [
       "Label(value='Choose from above, or type some text and press ENTER')"
      ],
      "application/vnd.jupyter.widget-view+json": {
       "version_major": 2,
       "version_minor": 0,
       "model_id": "b9026d70a4ae4094b01b677d25e8429b"
      }
     },
     "metadata": {},
     "output_type": "display_data"
    },
    {
     "data": {
      "text/plain": [
       "Text(value='default/entity', continuous_update=False, placeholder='Enter text...')"
      ],
      "application/vnd.jupyter.widget-view+json": {
       "version_major": 2,
       "version_minor": 0,
       "model_id": "8d2829e825154af9898c305d167993b5"
      }
     },
     "metadata": {},
     "output_type": "display_data"
    },
    {
     "data": {
      "text/plain": [
       "Label(value='')"
      ],
      "application/vnd.jupyter.widget-view+json": {
       "version_major": 2,
       "version_minor": 0,
       "model_id": "e3181843b66144d6ae4e4577dbdec4f3"
      }
     },
     "metadata": {},
     "output_type": "display_data"
    }
   ],
   "execution_count": 19
  },
  {
   "cell_type": "markdown",
   "id": "9aeb0644ff0ff9a8",
   "metadata": {},
   "source": [
    "We now have two delegated widgets, both a black box as far as the host is concerned, but linked together via the host using the `stateChangedCallback` of the `UIDelegateRequest` and the `updateRequestCallback` of the `UIDelegateState`.\n",
    "\n",
    "Note that we also initialised the `UIDelegateRequest` for the inline entity box with a default entity reference. Both the initial `UIDelegateRequest` provided to `populateUI`, and the initial `UIDelegateState` returned from `populateUI` should be filled in with as much information as available at the time. Then, both the `UIDelegateRequest` and the `UIDelegateState` can be updated dynamically via the `updateRequestCallback` and `stateChangedCallback`, respectively.\n",
    "\n",
    "It is in this way that we set up two unidirectional communication channels between the host and the UI delegate, which together provide asynchronous communication back and forth.\n",
    "\n"
   ]
  },
  {
   "cell_type": "markdown",
   "id": "2c8b7d6e050ddbd8",
   "metadata": {},
   "source": [
    "## entityTraitsDatas"
   ]
  },
  {
   "cell_type": "markdown",
   "id": "e0b72ab2c6804da8",
   "metadata": {},
   "source": [
    "So far we've made use of the `nativeData` and `entityReferences` properties of the `UIDelegateRequest` and `UIDelegateState`. The final property to cover is the `entityTraitsDatas` property of the `UIDelegateRequest` and `UIDelegateState`. This can be used in the `UIDelegateRequest` to provide entity metadata to the UI delegate, for example for use as a filter predicate. The UI delegate can populate the `entityTraitsDatas` of a `UIDelegateState` to communicate entity metadata back to the host, for example to augment the metadata of an entity to be published.\n"
   ]
  },
  {
   "cell_type": "markdown",
   "id": "d4b715fe6545ee4f",
   "metadata": {},
   "source": [
    "Let's turn to a publishing workflow. We will query the UI delegate for a browser for image entities to target, which will return a target entity reference along with some custom metadata that the host doesn't necessarily understand, but which the manager will appreciate when publishing.\n",
    "\n",
    "For simplicity, we'll rewrite the `populateUI` method to only support this use-case. In practice an implementation would support our existing use-cases too, branching as appropriate for the given parameters."
   ]
  },
  {
   "cell_type": "code",
   "id": "9343bc410358e147",
   "metadata": {
    "ExecuteTime": {
     "end_time": "2025-04-07T12:24:59.058079Z",
     "start_time": "2025-04-07T12:24:59.050695Z"
    }
   },
   "source": [
    "from openassetio_mediacreation.specifications.application import WorkfileSpecification\n",
    "from openassetio_mediacreation.specifications.twoDimensional import (\n",
    "    BitmapImageResourceSpecification,\n",
    ")\n",
    "from openassetio_mediacreation.traits.ui import MetadataProviderTrait\n",
    "\n",
    "\n",
    "# Our backend database of entities.\n",
    "database = {\n",
    "    \"workfiles\": {\n",
    "        \"project/workfile/first\": {},\n",
    "        \"project/workfile/second\": {},\n",
    "    },\n",
    "    \"plates\": {\n",
    "        \"project/plate/background\": {\"mimeType\": \"image/jpeg\"},\n",
    "        \"project/plate/web\": {\"mimeType\": \"image/gif\"},\n",
    "        \"project/plate/head\": {\"mimeType\": \"image/png\"},\n",
    "    },\n",
    "}\n",
    "\n",
    "\n",
    "class NotebookUIDelegateState(NotebookUIDelegateState):\n",
    "    \"\"\"\n",
    "    Redefine to add support for entityTraitsDatas.\n",
    "    \"\"\"\n",
    "\n",
    "    def __init__(self):\n",
    "        super().__init__()\n",
    "        self.__entity_traits_datas = []\n",
    "\n",
    "    def entityTraitsDatas(self):\n",
    "        # Override base class, which just returns an empty list.\n",
    "        return self.__entity_traits_datas\n",
    "\n",
    "    def setEntityTraitsDatas(self, entity_traits_datas):\n",
    "        self.__entity_traits_datas = entity_traits_datas\n",
    "\n",
    "\n",
    "class NotebookUIDelegateInterface(NotebookUIDelegateInterface):\n",
    "    def populateUI(self, uiTraitsData, uiAccess, request, context, hostSession):\n",
    "        if uiAccess != UIAccess.kWrite:\n",
    "            # This UI delegate only supports write (publishing)\n",
    "            # use-cases.\n",
    "            return None\n",
    "\n",
    "        ui_trait_set = uiTraitsData.traitSet()\n",
    "\n",
    "        if not ({EntityProviderTrait.kId, SingularTrait.kId, BrowserTrait.kId,\n",
    "                 DetachedTrait.kId}\n",
    "                <= ui_trait_set):\n",
    "            # This UI delegate only supports providing a detached entity\n",
    "            # browser for a single entity.\n",
    "            return None\n",
    "        entity_traits_datas = request.entityTraitsDatas()\n",
    "        if not entity_traits_datas:\n",
    "            # We require traits to determine what entities should show\n",
    "            # in the browser.\n",
    "            return None\n",
    "\n",
    "        # Determine which entity type the host wants to display.\n",
    "\n",
    "        desired_entity_traits_data = entity_traits_datas[0]\n",
    "        desired_entity_trait_set = desired_entity_traits_data.traitSet()\n",
    "\n",
    "        # Check that the desired trait set is a superset (or equal to) a\n",
    "        # supported trait set.\n",
    "        if WorkfileSpecification.kTraitSet <= desired_entity_trait_set:\n",
    "            entity_type = \"workfiles\"\n",
    "        elif BitmapImageResourceSpecification.kTraitSet <= desired_entity_trait_set:\n",
    "            entity_type = \"plates\"\n",
    "        else:\n",
    "            # We only support either workfiles (aka project files) or\n",
    "            # images.\n",
    "            return None\n",
    "\n",
    "        entity_ids = list(database[entity_type].keys())\n",
    "\n",
    "        if entity_type == \"plates\":\n",
    "            # Further filter by MIME type, if provided.\n",
    "            specification = BitmapImageResourceSpecification(desired_entity_traits_data)\n",
    "            desired_mime_type = specification.locatableContentTrait().getMimeType()\n",
    "            if desired_mime_type is not None:\n",
    "                # We should support comma-separated MIME types, as well\n",
    "                # as wildcards. See LocatableContentTrait for details.\n",
    "                desired_mime_types = desired_mime_type.split(\",\")\n",
    "                entity_ids = [\n",
    "                    entity_id\n",
    "                    for entity_id in entity_ids\n",
    "                    if database[\"plates\"][entity_id][\"mimeType\"] in desired_mime_types\n",
    "                ]\n",
    "\n",
    "        current_state = NotebookUIDelegateState()\n",
    "\n",
    "        def on_value_changed_cb(entity_id):\n",
    "            current_state.setEntityReferences(\n",
    "                [EntityReference(\"notebook://\" + entity_id + \"/new\")]\n",
    "            )\n",
    "\n",
    "            # Additional metadata, if the host asked for it.\n",
    "            if MetadataProviderTrait.kId in ui_trait_set:\n",
    "                custom_entity_traits = TraitsData()\n",
    "                custom_entity_traits.setTraitProperty(\n",
    "                    \"openassetio:example.User\", \"login\", \"Bob\")\n",
    "                current_state.setEntityTraitsDatas([custom_entity_traits])\n",
    "\n",
    "            if state_changed_cb := request.stateChangedCallback():\n",
    "                state_changed_cb(current_state)\n",
    "\n",
    "        widget = DropdownWidget(on_value_changed_cb, entity_ids)\n",
    "\n",
    "        current_state.setNativeData(widget)\n",
    "\n",
    "        return current_state"
   ],
   "outputs": [],
   "execution_count": 20
  },
  {
   "cell_type": "markdown",
   "id": "e01a7653f59c7213",
   "metadata": {},
   "source": [
    "Switching to the host now, let's create an image asset browser, and display any metadata returned by the UI delegate."
   ]
  },
  {
   "cell_type": "code",
   "id": "8b4f7ca21d51ecd8",
   "metadata": {
    "ExecuteTime": {
     "end_time": "2025-04-07T12:24:59.111785Z",
     "start_time": "2025-04-07T12:24:59.103694Z"
    }
   },
   "source": [
    "class NotebookHostUIRequest(NotebookHostUIRequest):\n",
    "    \"\"\"\n",
    "    Redefine to add support for entityTraitsDatas.\n",
    "    \"\"\"\n",
    "\n",
    "    def __init__(self, entityTraitsDatas=None, **kwargs):\n",
    "        super().__init__(**kwargs)\n",
    "        self.__entity_traits_datas = entityTraitsDatas\n",
    "\n",
    "    def entityTraitsDatas(self):\n",
    "        # Override base class implementation, which just returns an\n",
    "        # empty list.\n",
    "        return self.__entity_traits_datas\n",
    "\n",
    "\n",
    "def closure():\n",
    "    ui_delegate = make_ui_delegate()\n",
    "\n",
    "    ui_traits_data = TraitsData(\n",
    "        {\n",
    "            EntityProviderTrait.kId,\n",
    "            MetadataProviderTrait.kId,\n",
    "            SingularTrait.kId,\n",
    "            BrowserTrait.kId,\n",
    "            DetachedTrait.kId,\n",
    "        }\n",
    "    )\n",
    "\n",
    "    image_specification = BitmapImageResourceSpecification.create()\n",
    "    # We'll only support png and jpg images\n",
    "    image_specification.locatableContentTrait().setMimeType(\"image/jpeg,image/png\")\n",
    "\n",
    "    entity_ref_and_traits_output = ipywidgets.Output()\n",
    "\n",
    "    def browser_state_changed_cb(new_browser_state):\n",
    "        result_txt = \"\"\n",
    "        entity_refs = new_browser_state.entityReferences()\n",
    "        if entity_refs:\n",
    "            result_txt += f\"Entity '{entity_refs[0]}'\"\n",
    "            entity_traits = new_browser_state.entityTraitsDatas()\n",
    "            if entity_traits:\n",
    "                result_txt += \" with traits: \"\n",
    "                result_txt += str(entity_traits[0])\n",
    "\n",
    "        entity_ref_and_traits_output.clear_output()\n",
    "        with entity_ref_and_traits_output:\n",
    "            print(result_txt)\n",
    "\n",
    "    browser_ui_request = NotebookHostUIRequest(\n",
    "        entityTraitsDatas=[image_specification.traitsData()],\n",
    "        stateChangedCallback=browser_state_changed_cb,\n",
    "    )\n",
    "\n",
    "    initial_browser_state = ui_delegate.populateUI(\n",
    "        ui_traits_data, UIAccess.kWrite, browser_ui_request, context\n",
    "    )\n",
    "\n",
    "    initial_browser_state.nativeData().attach()\n",
    "    display(entity_ref_and_traits_output)\n",
    "\n",
    "\n",
    "closure()"
   ],
   "outputs": [
    {
     "data": {
      "text/plain": [
       "Dropdown(options=('project/plate/background', 'project/plate/head'), value='project/plate/background')"
      ],
      "application/vnd.jupyter.widget-view+json": {
       "version_major": 2,
       "version_minor": 0,
       "model_id": "594ade5d45d34a9e8d4d5455ac32ee67"
      }
     },
     "metadata": {},
     "output_type": "display_data"
    },
    {
     "data": {
      "text/plain": [
       "Output()"
      ],
      "application/vnd.jupyter.widget-view+json": {
       "version_major": 2,
       "version_minor": 0,
       "model_id": "f43e4aa36a4b47a5ae126037c86900b4"
      }
     },
     "metadata": {},
     "output_type": "display_data"
    }
   ],
   "execution_count": 21
  },
  {
   "cell_type": "markdown",
   "id": "4de67f5ab67a0c81",
   "metadata": {},
   "source": [
    "Note that our \"asset browser\" (dropdown) only contains image entities, and only those with a supported MIME type. In this case, the additional `TraitsData` could be merged with the entity's traits during publishing, to provide additional (opaque) metadata that the asset management system cares about, but which has no meaning to the host application.\n",
    "\n",
    "There are a couple of subtly introduced features of note here. Firstly, note we're adding `MetadataProviderTrait` (as well as `EntityProviderTrait`). The `MetadataProviderTrait` indicates that the host wants the `entityTraitsDatas` property to be populated by the UI delegate.\n",
    "\n",
    "Secondly, we've changed our access mode from `UIAccess.kRead` to `UIAccess.kWrite`. The access mode is used in much the same way as in manager plugins (e.g. `ResolveAccess` for `resolve()`, `PublishingAccess` for `register()`, etc). The access mode is used to indicate the kind of subsequent operation that the host intends to perform on the result, i.e. whether the provided entity references/traits will be used by the host for reading existing data, or for publishing new data to.  For example, this can be used to determine whether to display an asset browser equivalent of \"File->Open\" (`kRead`) vs. \"File->Save As\" (`kWrite`) dialog.\n",
    "\n"
   ]
  },
  {
   "cell_type": "markdown",
   "id": "6ec63ea79d57fb6d",
   "metadata": {},
   "source": [
    "## uiPolicy"
   ]
  },
  {
   "cell_type": "markdown",
   "id": "fa0ea792995b0d9e",
   "metadata": {},
   "source": [
    "In our previous example, the UI delegate was very selective in the types of UI element that were supported (only a detached entity browser widget for `kWrite` usage). Filling in all the details required for a `populateUI` call might be an expensive operation for a host application, only for it to return `None`. In addition, there may be other sundry metadata that's needed ahead of time, for the host to properly adapt its native UI to the needs of the UI delegate.\n",
    "\n",
    "This is where the `uiPolicy` method comes in. This method mirrors the `managementPolicy` method of manager plugins. We can use it to filter out early which kinds of UI the UI delegate plugin will support, as well as retrieve other policy-specific metadata.\n",
    "\n",
    "Continuing with the publishing browser example, let's implement its `uiPolicy`"
   ]
  },
  {
   "cell_type": "code",
   "id": "6cbe4ae3045c2bfc",
   "metadata": {
    "ExecuteTime": {
     "end_time": "2025-04-07T12:24:59.164874Z",
     "start_time": "2025-04-07T12:24:59.161250Z"
    }
   },
   "source": [
    "from openassetio_mediacreation.traits.uiPolicy import ManagedTrait\n",
    "\n",
    "\n",
    "class NotebookUIDelegateInterface(NotebookUIDelegateInterface):\n",
    "    def uiPolicy(self, uiTraits, uiAccess, context, hostSession):\n",
    "        policy = TraitsData()\n",
    "\n",
    "        if uiAccess != UIAccess.kWrite:\n",
    "            return policy\n",
    "\n",
    "        if (\n",
    "                not {EntityProviderTrait.kId, SingularTrait.kId, BrowserTrait.kId,\n",
    "                     DetachedTrait.kId}\n",
    "                    <= uiTraits\n",
    "        ):\n",
    "            return policy\n",
    "\n",
    "        managed_trait = ManagedTrait(policy)\n",
    "        managed_trait.imbue()  # Not strictly necessary -`setExclusive`, below, will do this implicitly.\n",
    "        # We want the host to hide any native UI in favour of delegated\n",
    "        # UI.\n",
    "        managed_trait.setExclusive(True)\n",
    "\n",
    "        return policy"
   ],
   "outputs": [],
   "execution_count": 22
  },
  {
   "cell_type": "markdown",
   "id": "21935b9ee5edfb10",
   "metadata": {},
   "source": [
    "The `uiPolicy` method should always return a `TraitsData`. The host can then check if the `ManagedTrait` is imbued, in order to determine whether a `populateUI` query may succeed.\n",
    "\n",
    "The `get`/`setExclusive` property on the `ManagedTrait` provides additional metadata, instructing the host to hide its native alternative to the delegated UI. For example, the host could display a tabbed browser, one tab for files and one (delegated) for assets. If the exclusive property is true, then the files tab should be hidden.\n",
    "\n",
    "Other policy metadata may be provided. For example the `DisplayNameTrait` may be imbued with a name for the UI element, to be used as a tab title.\n",
    "\n",
    "Note that one condition `populateUI` checks for is not replicated in `uiPolicy` - the `entityTraitsDatas` trait set check. This illustrates why it is not sufficient to assume `populateUI` will always succeed, based solely on the `uiPolicy`. There may be cases, based on a more fine-grained analysis, that `populateUI` is not supported for a given set of arguments.\n",
    "\n",
    "For completeness, let's see how this is used on the host side."
   ]
  },
  {
   "cell_type": "code",
   "id": "e2296868a306e81d",
   "metadata": {
    "ExecuteTime": {
     "end_time": "2025-04-07T12:24:59.225547Z",
     "start_time": "2025-04-07T12:24:59.220705Z"
    }
   },
   "source": [
    "ui_delegate = make_ui_delegate()\n",
    "\n",
    "detached_entity_browser_for_read_policy = ui_delegate.uiPolicy(\n",
    "    {EntityProviderTrait.kId, SingularTrait.kId, BrowserTrait.kId, DetachedTrait.kId},\n",
    "    UIAccess.kRead,\n",
    "    context,\n",
    ")\n",
    "\n",
    "inplace_entity_browser_for_publish_policy = ui_delegate.uiPolicy(\n",
    "    {EntityProviderTrait.kId, SingularTrait.kId, BrowserTrait.kId, InPlaceTrait.kId},\n",
    "    UIAccess.kWrite,\n",
    "    context,\n",
    ")\n",
    "\n",
    "detached_entity_browser_for_publish_policy = ui_delegate.uiPolicy(\n",
    "    {EntityProviderTrait.kId, SingularTrait.kId, BrowserTrait.kId, DetachedTrait.kId},\n",
    "    UIAccess.kWrite,\n",
    "    context,\n",
    ")\n",
    "\n",
    "print(ManagedTrait(detached_entity_browser_for_read_policy).isImbued())\n",
    "print(ManagedTrait(detached_entity_browser_for_read_policy).getExclusive())\n",
    "print(ManagedTrait(inplace_entity_browser_for_publish_policy).isImbued())\n",
    "print(ManagedTrait(inplace_entity_browser_for_publish_policy).getExclusive())\n",
    "print(ManagedTrait(detached_entity_browser_for_publish_policy).isImbued())\n",
    "print(ManagedTrait(detached_entity_browser_for_publish_policy).getExclusive())"
   ],
   "outputs": [
    {
     "name": "stdout",
     "output_type": "stream",
     "text": [
      "False\n",
      "None\n",
      "False\n",
      "None\n",
      "True\n",
      "True\n"
     ]
    }
   ],
   "execution_count": 23
  },
  {
   "cell_type": "markdown",
   "id": "41ea27ab330f4190",
   "metadata": {},
   "source": [
    "We also note that both `uiPolicy` and `populateUI` are parametrised by additional arguments - `context` and `hostSession`. These too can be introspected to determine appropriate behaviour and support, in a similar way to manager plugins. For example, the `context.locale` property can be examined to determine broader traits of the current logical process, and the `hostSession.host().identifier()` could be used to branch based on the specific host application that the plugin is loaded into."
   ]
  },
  {
   "cell_type": "markdown",
   "id": "fd070ade1f0727a2",
   "metadata": {},
   "source": [
    "## Disposing of UI elements"
   ]
  },
  {
   "cell_type": "markdown",
   "id": "20815a8e138b2d50",
   "metadata": {},
   "source": [
    "So far we've assumed that UI elements live forever. However, it is common for UI elements to be destroyed and re-created, e.g. for one-off dialogs. If a UI delegate holds on to state that outlives the UI element, then we run the risk of memory leaks, or worse, fatal errors when the host disposes of a UI element but does not dispose of the UI delegate's connection to it.\n",
    "\n",
    "It may be that all references are rooted in the UI element, so that when that is destroyed, so is all dangling state (e.g. in callback closures). Or it may be that the host application and its UI framework has a way to notify listeners that a UI element is defunct, and this native mechanism can be used to ensure proper cleanup.\n",
    "\n",
    "However, we cannot rely on these assumptions. OpenAssetIO UI delegates provide two mechanisms to handle this case.\n",
    "\n",
    "* When a single delegated UI element is disposed, the host can pass `None` to the `updateRequestCallback`, signalling that the request is finished and the UI delegate should clear all its references and destroy any internal state related to the particular UI element.\n",
    "\n",
    "* When the UI delegate as a whole is no longer valid, along with all delegated UI elements associated with it, then the `close()` method can be called. This method is called automatically on destruction of the `UIDelegate` class, but it can also be called by hosts directly in order to reset and reuse a UI delegate. Host applications should call `close()` (or destroy the UI delegate) whenever they are wholesale destroying all UI associated with the UI delegate.\n",
    "\n",
    "The particular responsibilities of the host and the UI delegate with respect to clean-up (e.g. which is responsible for destroying the UI element itself) will vary between applications and their UI frameworks, and any ambiguities must be documented by the host application.\n"
   ]
  },
  {
   "cell_type": "markdown",
   "id": "5ed97edce23b75c",
   "metadata": {},
   "source": [
    "Let's see this in action in a plugin that provides an inline entity reference box. We'll need to make the plugin stateful in order to track active widget states, so (rather contrived) we'll create a closure around the widget request, and persist it in a container."
   ]
  },
  {
   "cell_type": "code",
   "id": "35827d819b0b0164",
   "metadata": {
    "ExecuteTime": {
     "end_time": "2025-04-07T12:24:59.273626Z",
     "start_time": "2025-04-07T12:24:59.268909Z"
    }
   },
   "source": [
    "class NotebookUIDelegateInterface(NotebookUIDelegateInterface):\n",
    "    def __init__(self):\n",
    "        super().__init__()\n",
    "        self.__memos = set()\n",
    "\n",
    "    # <===== Important code here\n",
    "    def close(self, hostSession):\n",
    "        self.__memos.clear()\n",
    "\n",
    "    # ==========================>\n",
    "\n",
    "    def populateUI(self, uiTraitsData, uiAccess, request, context, hostSession):\n",
    "        if uiAccess != UIAccess.kRead:\n",
    "            return None\n",
    "        if not ({EntityProviderTrait.kId, SingularTrait.kId, InlineTrait.kId,\n",
    "                 DetachedTrait.kId}\n",
    "                <= uiTraitsData.traitSet()):\n",
    "            return None\n",
    "\n",
    "        current_state = NotebookUIDelegateState()\n",
    "\n",
    "        def memo():\n",
    "\n",
    "            def on_value_changed_cb(some_text):\n",
    "                current_state.setEntityReferences([EntityReference(\"notebook://\" + some_text)])\n",
    "                if state_changed_cb := request.stateChangedCallback():\n",
    "                    state_changed_cb(current_state)\n",
    "\n",
    "            def on_request_updated(new_request):\n",
    "                # <===== Important code here\n",
    "                if new_request is None:\n",
    "                    self.__memos.remove(memo)\n",
    "                    return\n",
    "                # =========================>\n",
    "                current_state.setEntityReferences(new_request.entityReferences())\n",
    "\n",
    "            widget = TextBoxWidget(on_value_change_cb=on_value_changed_cb)\n",
    "            current_state.setNativeData(widget)\n",
    "\n",
    "            current_state.setUpdateRequestCallback(on_request_updated)\n",
    "\n",
    "            self.__memos.add(memo)\n",
    "            return current_state\n",
    "\n",
    "        return memo()"
   ],
   "outputs": [],
   "execution_count": 24
  },
  {
   "cell_type": "markdown",
   "id": "a1b4afdfb06e9b64",
   "metadata": {},
   "source": [
    "First lets see what happens when we naively clean up on the host side, but don't clean up the UI delegate"
   ]
  },
  {
   "cell_type": "code",
   "id": "658999ef85734ac9",
   "metadata": {
    "ExecuteTime": {
     "end_time": "2025-04-07T12:24:59.346533Z",
     "start_time": "2025-04-07T12:24:59.319352Z"
    }
   },
   "source": [
    "import weakref\n",
    "import gc\n",
    "\n",
    "\n",
    "ui_traits_data = TraitsData(\n",
    "    {EntityProviderTrait.kId, SingularTrait.kId, InlineTrait.kId, DetachedTrait.kId}\n",
    ")\n",
    "\n",
    "\n",
    "def closure():\n",
    "    ui_delegate = make_ui_delegate()\n",
    "    ui_request = NotebookHostUIRequest(stateChangedCallback=lambda state: None)\n",
    "    ui_state = ui_delegate.populateUI(ui_traits_data, UIAccess.kRead, ui_request, context)\n",
    "    weakref_to_ui_request = weakref.ref(ui_request)\n",
    "\n",
    "    del ui_request\n",
    "    del ui_state\n",
    "    gc.collect()\n",
    "\n",
    "    print(f\"Request cleaned up? {weakref_to_ui_request() is None}\")\n",
    "\n",
    "\n",
    "closure()"
   ],
   "outputs": [
    {
     "name": "stdout",
     "output_type": "stream",
     "text": [
      "Request cleaned up? False\n"
     ]
    }
   ],
   "execution_count": 25
  },
  {
   "cell_type": "markdown",
   "id": "bb5638b82ee54e29",
   "metadata": {},
   "source": [
    "We see that the UI request is leaked. So let's explicitly clean up the references by passing `None` to the `updateRequestCallback`."
   ]
  },
  {
   "cell_type": "code",
   "id": "3cd7bbda3762f4f4",
   "metadata": {
    "ExecuteTime": {
     "end_time": "2025-04-07T12:24:59.407610Z",
     "start_time": "2025-04-07T12:24:59.378630Z"
    }
   },
   "source": [
    "def closure():\n",
    "    ui_delegate = make_ui_delegate()\n",
    "    ui_request = NotebookHostUIRequest(stateChangedCallback=lambda state: None)\n",
    "    ui_state = ui_delegate.populateUI(ui_traits_data, UIAccess.kRead, ui_request, context)\n",
    "    weakref_to_ui_request = weakref.ref(ui_request)\n",
    "\n",
    "    ui_state.updateRequestCallback()(None)\n",
    "\n",
    "    del ui_request\n",
    "    del ui_state\n",
    "    gc.collect()\n",
    "\n",
    "    print(f\"Request cleaned up? {weakref_to_ui_request() is None}\")\n",
    "\n",
    "\n",
    "closure()"
   ],
   "outputs": [
    {
     "name": "stdout",
     "output_type": "stream",
     "text": [
      "Request cleaned up? True\n"
     ]
    }
   ],
   "execution_count": 26
  },
  {
   "cell_type": "markdown",
   "id": "b26729f787b1447",
   "metadata": {},
   "source": [
    "This did the job. However, if there are many UI elements associated with a UI delegate, finding them all and calling the `updateRequestCallback` could be arduous.\n",
    "\n",
    "To clean up everything in one go we can call the `close()` method of the UI delegate associated with the widget(s)."
   ]
  },
  {
   "cell_type": "code",
   "id": "afebf83da2fd11d8",
   "metadata": {
    "ExecuteTime": {
     "end_time": "2025-04-07T12:24:59.483952Z",
     "start_time": "2025-04-07T12:24:59.455601Z"
    }
   },
   "source": [
    "def closure():\n",
    "    ui_delegate = make_ui_delegate()\n",
    "    ui_request = NotebookHostUIRequest(stateChangedCallback=lambda state: None)\n",
    "    ui_state = ui_delegate.populateUI(ui_traits_data, UIAccess.kRead, ui_request, context)\n",
    "    weakref_to_ui_request = weakref.ref(ui_request)\n",
    "\n",
    "    ui_delegate.close()\n",
    "\n",
    "    del ui_request\n",
    "    del ui_state\n",
    "    gc.collect()\n",
    "\n",
    "    print(f\"Request cleaned up? {weakref_to_ui_request() is None}\")\n",
    "\n",
    "\n",
    "closure()"
   ],
   "outputs": [
    {
     "name": "stdout",
     "output_type": "stream",
     "text": [
      "Request cleaned up? True\n"
     ]
    }
   ],
   "execution_count": 27
  },
  {
   "cell_type": "markdown",
   "id": "32a67cdb6f780ee2",
   "metadata": {},
   "source": [
    "The `close()` method is also called automatically on destruction of the UI delegate instance. So equivalently to the above, we can destroy the UI delegate itself."
   ]
  },
  {
   "cell_type": "code",
   "id": "7b1e8acb88bb82dd",
   "metadata": {
    "ExecuteTime": {
     "end_time": "2025-04-07T12:24:59.560837Z",
     "start_time": "2025-04-07T12:24:59.533115Z"
    }
   },
   "source": [
    "def closure():\n",
    "    ui_delegate = make_ui_delegate()\n",
    "    ui_request = NotebookHostUIRequest(stateChangedCallback=lambda state: None)\n",
    "    ui_state = ui_delegate.populateUI(ui_traits_data, UIAccess.kRead, ui_request, context)\n",
    "    weakref_to_ui_request = weakref.ref(ui_request)\n",
    "\n",
    "    del ui_delegate\n",
    "\n",
    "    del ui_request\n",
    "    del ui_state\n",
    "    gc.collect()\n",
    "\n",
    "    print(f\"Request cleaned up? {weakref_to_ui_request() is None}\")\n",
    "\n",
    "\n",
    "closure()"
   ],
   "outputs": [
    {
     "name": "stdout",
     "output_type": "stream",
     "text": [
      "Request cleaned up? True\n"
     ]
    }
   ],
   "execution_count": 28
  },
  {
   "cell_type": "markdown",
   "id": "97ac193228f7ea9f",
   "metadata": {},
   "source": [
    "## Sharing data between manager and UI delegate plugins"
   ]
  },
  {
   "cell_type": "markdown",
   "id": "92b582dfa3778cb7",
   "metadata": {},
   "source": [
    "The data used by the UI delegates in the examples above (for example, the entities in the \"asset browser\" dropdown) was all hardcoded. In reality, UI delegate plugins will usually need to consult some external source of information. It is up to the plugin how this data is retrieved. Typically, though, the UI delegate plugin may wish to (re)use functionality available in the corresponding manager plugin. There is no direct link between the `UIDelegateInterface` instance and the `ManagerInterface` instance in the API. However, there _is_ a link via a `Context` object, constructed by the manager plugin, and passed along with every call to the `populateUI` method (for example).\n",
    "\n",
    "The `ManagerInterface` has an opportunity to furnish a `Context` with an arbitrary `managerState` object on construction, which can then be accessed by the UI delegate plugin."
   ]
  },
  {
   "cell_type": "markdown",
   "id": "76aa6edcd8090088",
   "metadata": {},
   "source": [
    "To see how this might work, we'll create an entity browser (dropdown) with data populated from state communicated via the `Context`.\n",
    "\n",
    "First we'll need to define a state object that inherits from `ManagerStateBase` (this is crucial, since it allows transport of Python state through the C++ middleware). Then we'll need to implement the required methods in the manager plugin, by augmenting our `NotebookManagerInterface`, to make use of this state object."
   ]
  },
  {
   "cell_type": "code",
   "id": "43eb45d9a0a6766c",
   "metadata": {
    "ExecuteTime": {
     "end_time": "2025-04-07T12:24:59.587126Z",
     "start_time": "2025-04-07T12:24:59.583738Z"
    }
   },
   "source": [
    "from openassetio.managerApi import ManagerStateBase\n",
    "\n",
    "\n",
    "# The backend database.\n",
    "backend_database = [\"first/entity\", \"second/entity\", \"third/entity\"]\n",
    "\n",
    "\n",
    "class NotebookManagerState(ManagerStateBase):\n",
    "\n",
    "    def __init__(self, database):\n",
    "        ManagerStateBase.__init__(self)\n",
    "        self.database = database\n",
    "\n",
    "\n",
    "class NotebookManagerInterface(NotebookManagerInterface):\n",
    "    def hasCapability(self, capability):\n",
    "        \"\"\"\n",
    "        Context won't be constructed with managerState unless we\n",
    "        advertise that we're capable of providing it.\n",
    "        \"\"\"\n",
    "        return (\n",
    "                super().hasCapability(capability)\n",
    "                or capability == ManagerInterface.Capability.kStatefulContexts\n",
    "        )\n",
    "\n",
    "    def createState(self, hostSession):\n",
    "        \"\"\"\n",
    "        This will be called whenever the host creates a Context object\n",
    "        and the result stored on Context.managerState.\n",
    "        \"\"\"\n",
    "        return NotebookManagerState(backend_database)\n",
    "\n",
    "    def createChildState(self, parentState, hostSession):\n",
    "        \"\"\"\n",
    "        This will be called whenever the host creates a child Context\n",
    "        object, used to subgroup together logical units of work.\n",
    "\n",
    "        We re-use the same database from the parent\n",
    "        \"\"\"\n",
    "        return NotebookManagerState(parentState.database)"
   ],
   "outputs": [],
   "execution_count": 29
  },
  {
   "cell_type": "markdown",
   "id": "e3edbb8fd7b870c9",
   "metadata": {},
   "source": [
    "Now we'll assume the `context` provided to the UI delegate has this state available"
   ]
  },
  {
   "cell_type": "code",
   "id": "eed50e182d0a2cfc",
   "metadata": {
    "ExecuteTime": {
     "end_time": "2025-04-07T12:24:59.638759Z",
     "start_time": "2025-04-07T12:24:59.635788Z"
    }
   },
   "source": [
    "class NotebookUIDelegateInterface(NotebookUIDelegateInterface):\n",
    "    def populateUI(self, uiTraitsData, uiAccess, request, context, hostSession):\n",
    "\n",
    "        if (\n",
    "                not {DetachedTrait.kId, SingularTrait.kId, EntityProviderTrait.kId,\n",
    "                     BrowserTrait.kId}\n",
    "                    <= uiTraitsData.traitSet()\n",
    "        ):\n",
    "            return None\n",
    "\n",
    "        current_state = NotebookUIDelegateState()\n",
    "\n",
    "        def on_value_changed_cb(some_text):\n",
    "            current_state.setEntityReferences([EntityReference(\"notebook://\" + some_text)])\n",
    "            if state_changed_cb := request.stateChangedCallback():\n",
    "                state_changed_cb(current_state)\n",
    "\n",
    "        widget = DropdownWidget(\n",
    "            on_value_changed_cb,\n",
    "            # <===== Important code here\n",
    "            context.managerState.database,\n",
    "            # =========================>\n",
    "        )\n",
    "\n",
    "        current_state.setNativeData(widget)\n",
    "\n",
    "        return current_state"
   ],
   "outputs": [],
   "execution_count": 30
  },
  {
   "cell_type": "markdown",
   "id": "aae60c9d664b3375",
   "metadata": {},
   "source": [
    "Now on the host application side, we'll need to load our updated manager and UI delegate plugins, get a `Context` from the manager, and pass it in to the UI delegate's `populateUI` method."
   ]
  },
  {
   "cell_type": "code",
   "id": "259a8f82cb9804f",
   "metadata": {
    "ExecuteTime": {
     "end_time": "2025-04-07T12:24:59.692386Z",
     "start_time": "2025-04-07T12:24:59.684764Z"
    }
   },
   "source": [
    "def closure():\n",
    "    manager = make_manager()\n",
    "    # Context now contains a custom `managerState`.\n",
    "    context = manager.createContext()\n",
    "\n",
    "    ui_delegate = make_ui_delegate()\n",
    "\n",
    "    browser_output = LabelWidget(\"From browser...\")\n",
    "\n",
    "    def state_changed_cb(new_state):\n",
    "        browser_output.set_text(f\"From browser: {new_state.entityReferences()}\")\n",
    "\n",
    "    ui_traits_data = TraitsData(\n",
    "        {EntityProviderTrait.kId, SingularTrait.kId, BrowserTrait.kId, DetachedTrait.kId}\n",
    "    )\n",
    "    ui_request = NotebookHostUIRequest(stateChangedCallback=state_changed_cb)\n",
    "\n",
    "    initial_browser_state = ui_delegate.populateUI(\n",
    "        ui_traits_data, UIAccess.kRead, ui_request, context\n",
    "    )\n",
    "\n",
    "    initial_browser_state.nativeData().attach()\n",
    "    browser_output.attach()\n",
    "\n",
    "\n",
    "closure()"
   ],
   "outputs": [
    {
     "data": {
      "text/plain": [
       "Dropdown(options=('first/entity', 'second/entity', 'third/entity'), value='first/entity')"
      ],
      "application/vnd.jupyter.widget-view+json": {
       "version_major": 2,
       "version_minor": 0,
       "model_id": "aed6701df60049b0a0d691b1373410f0"
      }
     },
     "metadata": {},
     "output_type": "display_data"
    },
    {
     "data": {
      "text/plain": [
       "Label(value='From browser...')"
      ],
      "application/vnd.jupyter.widget-view+json": {
       "version_major": 2,
       "version_minor": 0,
       "model_id": "d62fb7ad5f1d4c5fbff3caf7168063fa"
      }
     },
     "metadata": {},
     "output_type": "display_data"
    }
   ],
   "execution_count": 31
  },
  {
   "cell_type": "markdown",
   "id": "2bfd9802e8692863",
   "metadata": {},
   "source": [
    "We've successfully communicated state from the manager plugin to the UI delegate via the OpenAssetIO `Context`.\n"
   ]
  },
  {
   "cell_type": "markdown",
   "id": "4e3f22b63c85a60a",
   "metadata": {},
   "source": [
    "## C++ specifics"
   ]
  },
  {
   "cell_type": "markdown",
   "id": "87900ad81172f4bc",
   "metadata": {},
   "source": [
    "Usage in C++ is, as with most of OpenAssetIO, much the same as usage in Python. There are the usual translations needed (e.g. `None` becomes a `shared_ptr` holding a `nullptr`), but also one or two C++ specifics."
   ]
  },
  {
   "cell_type": "markdown",
   "id": "3bfbb9f37baa95c4",
   "metadata": {},
   "source": [
    "### nativeData"
   ]
  },
  {
   "cell_type": "markdown",
   "id": "2b33e6815e9cb487",
   "metadata": {},
   "source": [
    "In Python, the `nativeData` held by `UIDelegateRequestInterface` and `UIDelegateStateInterface` classes can be any arbitrary object - trivial to do in Python. But of course C++ is strongly typed, so we can't return arbitrary objects from function calls. To work around this the `nativeData()` method in C++ returns a `std::any`, which must be unpacked via `std::any_cast` to the actual native type.\n"
   ]
  },
  {
   "cell_type": "markdown",
   "id": "1eb3840b30d11318",
   "metadata": {},
   "source": [
    "#### Python -> C++ nativeData"
   ]
  },
  {
   "cell_type": "markdown",
   "id": "65ec05f92b186bf7",
   "metadata": {},
   "source": [
    "When the host and UI delegate plugin are written in different languages, specifically Python and C++, the usage of `nativeData` is a special case.\n",
    "\n",
    "To determine when this case applies at runtime, we can make use of the `info()` method. For host applications, there is an `info()` method on the `UIDelegate` instance. For plugins, there is an `info()` method on the `HostInterface` instance (accessible via `hostSession.host().info()`). This returns an arbitrary dictionary, and, as alluded to earlier, some of the keys in this dictionary have a special meaning. In particular the `openassetio.constants.kInfoKey_IsPython` (`\"isPython\"`) entry can be `True` to indicate that the plugin/host is written in Python. The default Python base class implementation of `info()` on both the `HostInterface` and `UIDelegateInterface` adds this key to the dictionary.\n",
    "\n",
    "When Python provides C++ with a `nativeData`, then the `std::any` returned by `nativeData()` will always contain a CPython `PyObject*`. This is a non-owning reference to the Python `nativeData` object - in particular, the host should _not_ attempt to decrement the reference count of this object (unless incrementing it first).\n",
    "\n",
    "It is up to the C++ code to further unpack the `PyObject*`, if necessary. For example, Qt `QWidget` widgets can be converted to/from `PyObject` using Qt's Shiboken API.\n",
    "\n",
    "Conversely, when C++ provides a `nativeData` to Python, the `std::any` returned from `nativeData()` _must_ contain a `PyObject*`. The Python bindings will raise an exception if this is not the case when the `nativeData()` method is called in Python.\n",
    "\n",
    "It is then up to the C++ code to properly clean up the `PyObject*` that it placed in the `std::any` when it is no longer needed (e.g. decrement the reference count on destruction of the `std::any`, if required).\n",
    "\n"
   ]
  },
  {
   "cell_type": "markdown",
   "id": "b60eb8a33931f013",
   "metadata": {},
   "source": [
    "### Context.managerState"
   ]
  },
  {
   "cell_type": "markdown",
   "id": "ef2252662c7427f6",
   "metadata": {},
   "source": [
    "As mentioned, the `ManagerStateBase` base class is required to allow the `managerState` object to pass through C++ and Python unmodified. Internally, it's (ab)using a technicality of the Python/C++ bindings and C++ `virtual` inheritance. The `ManagerStateBase` class itself is an empty C++ class, bound to Python.\n",
    "\n",
    "This means you can inherit from `ManagerStateBase` in C++/Python and store an instance in the `Context`, and this instance will persist as it travels into Python/C++ and back out.  However, the instance will only be accessible in the language in which the subclass was defined. That is, a C++ `Context.managerState` will appear empty in Python, and vice versa. This causes complications for hybrid C++/Python plugins, and/or where one of the manager or UI delegate plugins is written in C++ and the other is written in Python.\n",
    "\n",
    "It is currently an exercise to the plugin author to decide how best to work around this case. The `openassetio::python::converter` namespace's `castToPyObject` might be of some help here."
   ]
  }
 ],
 "metadata": {
  "kernelspec": {
   "display_name": "Python 3 (ipykernel)",
   "language": "python",
   "name": "python3"
  },
  "language_info": {
   "codemirror_mode": {
    "name": "ipython",
    "version": 3
   },
   "file_extension": ".py",
   "mimetype": "text/x-python",
   "name": "python",
   "nbconvert_exporter": "python",
   "pygments_lexer": "ipython3",
   "version": "3.11.9"
  },
  "widgets": {
   "application/vnd.jupyter.widget-state+json": {
    "state": {
     "04b01f69d1a94ccf9c4581708ddb85ac": {
      "model_module": "@jupyter-widgets/output",
      "model_module_version": "1.0.0",
      "model_name": "OutputModel",
      "state": {
       "layout": "IPY_MODEL_98bf06684f4c400ca49d5e39bd951ba3",
       "outputs": [
        {
         "name": "stdout",
         "output_type": "stream",
         "text": "Entity 'notebook://project/plate/head/new' with traits: {'openassetio:example.User': {'login': 'Bob'}}\n"
        }
       ]
      }
     },
     "07fa787aeb2441d4a37b8b681e72eee6": {
      "model_module": "@jupyter-widgets/controls",
      "model_module_version": "2.0.0",
      "model_name": "TextStyleModel",
      "state": {
       "description_width": "",
       "font_size": null,
       "text_color": null
      }
     },
     "129a6360c7f24c888e2dde038f862408": {
      "model_module": "@jupyter-widgets/controls",
      "model_module_version": "2.0.0",
      "model_name": "TextStyleModel",
      "state": {
       "description_width": "",
       "font_size": null,
       "text_color": null
      }
     },
     "157d08ec780d4e609e51af349c9b9929": {
      "model_module": "@jupyter-widgets/base",
      "model_module_version": "2.0.0",
      "model_name": "LayoutModel",
      "state": {}
     },
     "184d8e1b54e745fcb56bef6ac9a669a6": {
      "model_module": "@jupyter-widgets/controls",
      "model_module_version": "2.0.0",
      "model_name": "TextModel",
      "state": {
       "continuous_update": false,
       "layout": "IPY_MODEL_a372ee913ea545daa195ecef7afb3b81",
       "placeholder": "Enter text...",
       "style": "IPY_MODEL_1ef0d2ce5b6148559e5acf2b3a8906f1",
       "value": "second/entity"
      }
     },
     "1c3e9b9bf0aa4706a85034352f506e26": {
      "model_module": "@jupyter-widgets/controls",
      "model_module_version": "2.0.0",
      "model_name": "LabelStyleModel",
      "state": {
       "description_width": "",
       "font_family": null,
       "font_size": null,
       "font_style": null,
       "font_variant": null,
       "font_weight": null,
       "text_color": null,
       "text_decoration": null
      }
     },
     "1de906a70ca1406c9e4111b808a7b7f2": {
      "model_module": "@jupyter-widgets/base",
      "model_module_version": "2.0.0",
      "model_name": "LayoutModel",
      "state": {}
     },
     "1ea138c2404e455697ee84c8bdd68f59": {
      "model_module": "@jupyter-widgets/base",
      "model_module_version": "2.0.0",
      "model_name": "LayoutModel",
      "state": {}
     },
     "1ef0d2ce5b6148559e5acf2b3a8906f1": {
      "model_module": "@jupyter-widgets/controls",
      "model_module_version": "2.0.0",
      "model_name": "TextStyleModel",
      "state": {
       "description_width": "",
       "font_size": null,
       "text_color": null
      }
     },
     "237c6a18d19d4bb98fe1f9f50006995f": {
      "model_module": "@jupyter-widgets/controls",
      "model_module_version": "2.0.0",
      "model_name": "TextModel",
      "state": {
       "continuous_update": false,
       "layout": "IPY_MODEL_852d47c16b4041c892142991ef35fc48",
       "placeholder": "Enter text...",
       "style": "IPY_MODEL_d769ce8cc737486e9c2e79642496f610"
      }
     },
     "23acfa411bdc4cf3a15ba355c0252fbb": {
      "model_module": "@jupyter-widgets/controls",
      "model_module_version": "2.0.0",
      "model_name": "TextStyleModel",
      "state": {
       "description_width": "",
       "font_size": null,
       "text_color": null
      }
     },
     "245664ee6f214aa185db598d757c7677": {
      "model_module": "@jupyter-widgets/base",
      "model_module_version": "2.0.0",
      "model_name": "LayoutModel",
      "state": {}
     },
     "27d05a8976ff4f42b4cccf46efdfc70b": {
      "model_module": "@jupyter-widgets/controls",
      "model_module_version": "2.0.0",
      "model_name": "DescriptionStyleModel",
      "state": {
       "description_width": ""
      }
     },
     "2adff1b7aae243709a4eae43541b9af6": {
      "model_module": "@jupyter-widgets/controls",
      "model_module_version": "2.0.0",
      "model_name": "LabelModel",
      "state": {
       "layout": "IPY_MODEL_d7d79b262839414d8f7b63f04634a761",
       "style": "IPY_MODEL_c255d2cd59e4421e87213a1e4c456109",
       "value": "Type some text and press ENTER"
      }
     },
     "343bf4a38d0b4d11a2d45ee63a947d1c": {
      "model_module": "@jupyter-widgets/controls",
      "model_module_version": "2.0.0",
      "model_name": "LabelStyleModel",
      "state": {
       "description_width": "",
       "font_family": null,
       "font_size": null,
       "font_style": null,
       "font_variant": null,
       "font_weight": null,
       "text_color": null,
       "text_decoration": null
      }
     },
     "37cb593ce15a470992eebaeccf1fa237": {
      "model_module": "@jupyter-widgets/controls",
      "model_module_version": "2.0.0",
      "model_name": "TextModel",
      "state": {
       "continuous_update": false,
       "layout": "IPY_MODEL_1ea138c2404e455697ee84c8bdd68f59",
       "placeholder": "Enter text...",
       "style": "IPY_MODEL_f1136132bed4470c94d9fbf27c7f7f4b",
       "value": "some_entity"
      }
     },
     "43f0e97d160341ac82171b744c57e292": {
      "model_module": "@jupyter-widgets/controls",
      "model_module_version": "2.0.0",
      "model_name": "TextStyleModel",
      "state": {
       "description_width": "",
       "font_size": null,
       "text_color": null
      }
     },
     "4649809403494878b54c97d7a2900863": {
      "model_module": "@jupyter-widgets/controls",
      "model_module_version": "2.0.0",
      "model_name": "DropdownModel",
      "state": {
       "_options_labels": [
        "first/entity",
        "second/entity"
       ],
       "index": 1,
       "layout": "IPY_MODEL_f1047b802fe04b1f82d0f97a59eedcbf",
       "style": "IPY_MODEL_777939e86f1c4c88a7e37c9f57471c71"
      }
     },
     "4945c001e2a54afb961aece113c8d072": {
      "model_module": "@jupyter-widgets/base",
      "model_module_version": "2.0.0",
      "model_name": "LayoutModel",
      "state": {}
     },
     "49c3b57ba99248c4bcefc663f379034a": {
      "model_module": "@jupyter-widgets/controls",
      "model_module_version": "2.0.0",
      "model_name": "LabelStyleModel",
      "state": {
       "description_width": "",
       "font_family": null,
       "font_size": null,
       "font_style": null,
       "font_variant": null,
       "font_weight": null,
       "text_color": null,
       "text_decoration": null
      }
     },
     "4aaf94e5b0294175b5569ec143666210": {
      "model_module": "@jupyter-widgets/controls",
      "model_module_version": "2.0.0",
      "model_name": "LabelStyleModel",
      "state": {
       "description_width": "",
       "font_family": null,
       "font_size": null,
       "font_style": null,
       "font_variant": null,
       "font_weight": null,
       "text_color": null,
       "text_decoration": null
      }
     },
     "4af9c610b98f4f7382ea949abdbedcb9": {
      "model_module": "@jupyter-widgets/controls",
      "model_module_version": "2.0.0",
      "model_name": "LabelModel",
      "state": {
       "layout": "IPY_MODEL_913792a5bdbe4b969f156e0db8802354",
       "style": "IPY_MODEL_49c3b57ba99248c4bcefc663f379034a",
       "value": "From browser: [EntityReference('notebook://third/entity')]"
      }
     },
     "4e60225959ef4184a240d273e9b67ef5": {
      "model_module": "@jupyter-widgets/controls",
      "model_module_version": "2.0.0",
      "model_name": "TextModel",
      "state": {
       "continuous_update": false,
       "layout": "IPY_MODEL_86ff1731b97949d2aadcc3c3e391b8a7",
       "placeholder": "Enter text...",
       "style": "IPY_MODEL_b3270c76072e4b8885387f8ecba613ef"
      }
     },
     "57751fa075c04b27a4199e165a074b04": {
      "model_module": "@jupyter-widgets/controls",
      "model_module_version": "2.0.0",
      "model_name": "DescriptionStyleModel",
      "state": {
       "description_width": ""
      }
     },
     "5dc750b88770458cb8124b334610f0d7": {
      "model_module": "@jupyter-widgets/controls",
      "model_module_version": "2.0.0",
      "model_name": "DropdownModel",
      "state": {
       "_options_labels": [
        "project/plate/background",
        "project/plate/head"
       ],
       "index": 1,
       "layout": "IPY_MODEL_e2843c42385948c6a116f92b4120e057",
       "style": "IPY_MODEL_d3221facb0bd4eaea5da5ea34a5fe246"
      }
     },
     "700433d53b694f89868861ce8cee2116": {
      "model_module": "@jupyter-widgets/controls",
      "model_module_version": "2.0.0",
      "model_name": "LabelStyleModel",
      "state": {
       "description_width": "",
       "font_family": null,
       "font_size": null,
       "font_style": null,
       "font_variant": null,
       "font_weight": null,
       "text_color": null,
       "text_decoration": null
      }
     },
     "71216ce1d9a845028d72415b6389558e": {
      "model_module": "@jupyter-widgets/controls",
      "model_module_version": "2.0.0",
      "model_name": "LabelModel",
      "state": {
       "layout": "IPY_MODEL_1de906a70ca1406c9e4111b808a7b7f2",
       "style": "IPY_MODEL_1c3e9b9bf0aa4706a85034352f506e26",
       "value": "From browser: [EntityReference('notebook://second/entity')]"
      }
     },
     "71ee8d0086924e54b1895f0a8dc381ba": {
      "model_module": "@jupyter-widgets/base",
      "model_module_version": "2.0.0",
      "model_name": "LayoutModel",
      "state": {}
     },
     "777939e86f1c4c88a7e37c9f57471c71": {
      "model_module": "@jupyter-widgets/controls",
      "model_module_version": "2.0.0",
      "model_name": "DescriptionStyleModel",
      "state": {
       "description_width": ""
      }
     },
     "7f080aa6eeb04a6aae3165670c6d3e80": {
      "model_module": "@jupyter-widgets/base",
      "model_module_version": "2.0.0",
      "model_name": "LayoutModel",
      "state": {}
     },
     "833f5d5b2b084548a611c73e11ea3417": {
      "model_module": "@jupyter-widgets/base",
      "model_module_version": "2.0.0",
      "model_name": "LayoutModel",
      "state": {}
     },
     "852d47c16b4041c892142991ef35fc48": {
      "model_module": "@jupyter-widgets/base",
      "model_module_version": "2.0.0",
      "model_name": "LayoutModel",
      "state": {}
     },
     "86ff1731b97949d2aadcc3c3e391b8a7": {
      "model_module": "@jupyter-widgets/base",
      "model_module_version": "2.0.0",
      "model_name": "LayoutModel",
      "state": {}
     },
     "883afbabc13241d2a3974abf23e8d4ce": {
      "model_module": "@jupyter-widgets/base",
      "model_module_version": "2.0.0",
      "model_name": "LayoutModel",
      "state": {}
     },
     "89bc45e9ffd740d391c30bd4e611e941": {
      "model_module": "@jupyter-widgets/base",
      "model_module_version": "2.0.0",
      "model_name": "LayoutModel",
      "state": {}
     },
     "913792a5bdbe4b969f156e0db8802354": {
      "model_module": "@jupyter-widgets/base",
      "model_module_version": "2.0.0",
      "model_name": "LayoutModel",
      "state": {}
     },
     "913a8bd71fbb40d7a7c22435650996f4": {
      "model_module": "@jupyter-widgets/controls",
      "model_module_version": "2.0.0",
      "model_name": "TextModel",
      "state": {
       "continuous_update": false,
       "layout": "IPY_MODEL_9e7fd987d425464bad569e5b4a3fe896",
       "placeholder": "Enter text...",
       "style": "IPY_MODEL_43f0e97d160341ac82171b744c57e292"
      }
     },
     "98bf06684f4c400ca49d5e39bd951ba3": {
      "model_module": "@jupyter-widgets/base",
      "model_module_version": "2.0.0",
      "model_name": "LayoutModel",
      "state": {}
     },
     "9c683aaade084535b1666c4fd9217ccf": {
      "model_module": "@jupyter-widgets/output",
      "model_module_version": "1.0.0",
      "model_name": "OutputModel",
      "state": {
       "layout": "IPY_MODEL_71ee8d0086924e54b1895f0a8dc381ba",
       "outputs": [
        {
         "name": "stdout",
         "output_type": "stream",
         "text": "From UI delegate: [EntityReference('notebook://some_entity')]\n"
        }
       ]
      }
     },
     "9e7fd987d425464bad569e5b4a3fe896": {
      "model_module": "@jupyter-widgets/base",
      "model_module_version": "2.0.0",
      "model_name": "LayoutModel",
      "state": {}
     },
     "a372ee913ea545daa195ecef7afb3b81": {
      "model_module": "@jupyter-widgets/base",
      "model_module_version": "2.0.0",
      "model_name": "LayoutModel",
      "state": {}
     },
     "a73f77f0dc0b46d68d0fe8dad54b9e1e": {
      "model_module": "@jupyter-widgets/controls",
      "model_module_version": "2.0.0",
      "model_name": "LabelModel",
      "state": {
       "layout": "IPY_MODEL_fb804f26f8d64f4e858ac64435d77afb",
       "style": "IPY_MODEL_700433d53b694f89868861ce8cee2116",
       "value": "Choose from above, or type some text and press ENTER"
      }
     },
     "ad328a5171764b76ad548650d2ca6be0": {
      "model_module": "@jupyter-widgets/controls",
      "model_module_version": "2.0.0",
      "model_name": "TextModel",
      "state": {
       "continuous_update": false,
       "layout": "IPY_MODEL_fe744681e6a344ac97f44f55fd430e9d",
       "placeholder": "Enter text...",
       "style": "IPY_MODEL_129a6360c7f24c888e2dde038f862408",
       "value": "some_entity"
      }
     },
     "b307779dbcb24a20839f922ba2990f81": {
      "model_module": "@jupyter-widgets/base",
      "model_module_version": "2.0.0",
      "model_name": "LayoutModel",
      "state": {}
     },
     "b3270c76072e4b8885387f8ecba613ef": {
      "model_module": "@jupyter-widgets/controls",
      "model_module_version": "2.0.0",
      "model_name": "TextStyleModel",
      "state": {
       "description_width": "",
       "font_size": null,
       "text_color": null
      }
     },
     "b328b2a2480b46678de4db77b2e5d9db": {
      "model_module": "@jupyter-widgets/controls",
      "model_module_version": "2.0.0",
      "model_name": "TextStyleModel",
      "state": {
       "description_width": "",
       "font_size": null,
       "text_color": null
      }
     },
     "b8ad774d04974420af9e9b426c4a6eeb": {
      "model_module": "@jupyter-widgets/controls",
      "model_module_version": "2.0.0",
      "model_name": "LabelModel",
      "state": {
       "layout": "IPY_MODEL_245664ee6f214aa185db598d757c7677",
       "style": "IPY_MODEL_343bf4a38d0b4d11a2d45ee63a947d1c",
       "value": "From UI delegate: [EntityReference('notebook://some_entity')]"
      }
     },
     "b8cdaafe32504b23aaf1706393b4543d": {
      "model_module": "@jupyter-widgets/controls",
      "model_module_version": "2.0.0",
      "model_name": "LabelStyleModel",
      "state": {
       "description_width": "",
       "font_family": null,
       "font_size": null,
       "font_style": null,
       "font_variant": null,
       "font_weight": null,
       "text_color": null,
       "text_decoration": null
      }
     },
     "bb612b5200e941f68985cf88efc0f07d": {
      "model_module": "@jupyter-widgets/controls",
      "model_module_version": "2.0.0",
      "model_name": "TextModel",
      "state": {
       "continuous_update": false,
       "layout": "IPY_MODEL_883afbabc13241d2a3974abf23e8d4ce",
       "placeholder": "Enter text...",
       "style": "IPY_MODEL_07fa787aeb2441d4a37b8b681e72eee6"
      }
     },
     "c255d2cd59e4421e87213a1e4c456109": {
      "model_module": "@jupyter-widgets/controls",
      "model_module_version": "2.0.0",
      "model_name": "LabelStyleModel",
      "state": {
       "description_width": "",
       "font_family": null,
       "font_size": null,
       "font_style": null,
       "font_variant": null,
       "font_weight": null,
       "text_color": null,
       "text_decoration": null
      }
     },
     "d0a94a6142f7467f85377d5890a660a0": {
      "model_module": "@jupyter-widgets/controls",
      "model_module_version": "2.0.0",
      "model_name": "LabelStyleModel",
      "state": {
       "description_width": "",
       "font_family": null,
       "font_size": null,
       "font_style": null,
       "font_variant": null,
       "font_weight": null,
       "text_color": null,
       "text_decoration": null
      }
     },
     "d3221facb0bd4eaea5da5ea34a5fe246": {
      "model_module": "@jupyter-widgets/controls",
      "model_module_version": "2.0.0",
      "model_name": "DescriptionStyleModel",
      "state": {
       "description_width": ""
      }
     },
     "d40ce560c9a74f5c8ef9d4d92c407498": {
      "model_module": "@jupyter-widgets/controls",
      "model_module_version": "2.0.0",
      "model_name": "DropdownModel",
      "state": {
       "_options_labels": [
        "first/entity",
        "second/entity",
        "third/entity"
       ],
       "index": 2,
       "layout": "IPY_MODEL_b307779dbcb24a20839f922ba2990f81",
       "style": "IPY_MODEL_57751fa075c04b27a4199e165a074b04"
      }
     },
     "d603b784ff324373b9f605307feffbdd": {
      "model_module": "@jupyter-widgets/base",
      "model_module_version": "2.0.0",
      "model_name": "LayoutModel",
      "state": {}
     },
     "d769ce8cc737486e9c2e79642496f610": {
      "model_module": "@jupyter-widgets/controls",
      "model_module_version": "2.0.0",
      "model_name": "TextStyleModel",
      "state": {
       "description_width": "",
       "font_size": null,
       "text_color": null
      }
     },
     "d77d18c33a2043d78b454a874012ef3d": {
      "model_module": "@jupyter-widgets/controls",
      "model_module_version": "2.0.0",
      "model_name": "TextModel",
      "state": {
       "continuous_update": false,
       "layout": "IPY_MODEL_7f080aa6eeb04a6aae3165670c6d3e80",
       "placeholder": "Enter text...",
       "style": "IPY_MODEL_23acfa411bdc4cf3a15ba355c0252fbb"
      }
     },
     "d7d79b262839414d8f7b63f04634a761": {
      "model_module": "@jupyter-widgets/base",
      "model_module_version": "2.0.0",
      "model_name": "LayoutModel",
      "state": {}
     },
     "d9df4a6aa8fc4bf3ae7ade12d182ed9e": {
      "model_module": "@jupyter-widgets/controls",
      "model_module_version": "2.0.0",
      "model_name": "DropdownModel",
      "state": {
       "_options_labels": [
        "first/entity",
        "second/entity"
       ],
       "index": 1,
       "layout": "IPY_MODEL_f76b875b163147a9a11d683559e5d205",
       "style": "IPY_MODEL_27d05a8976ff4f42b4cccf46efdfc70b"
      }
     },
     "e12b35f9c68f46f2b2e2209711e77b87": {
      "model_module": "@jupyter-widgets/controls",
      "model_module_version": "2.0.0",
      "model_name": "LabelModel",
      "state": {
       "layout": "IPY_MODEL_4945c001e2a54afb961aece113c8d072",
       "style": "IPY_MODEL_d0a94a6142f7467f85377d5890a660a0",
       "value": "Type some text and press ENTER"
      }
     },
     "e2843c42385948c6a116f92b4120e057": {
      "model_module": "@jupyter-widgets/base",
      "model_module_version": "2.0.0",
      "model_name": "LayoutModel",
      "state": {}
     },
     "f1047b802fe04b1f82d0f97a59eedcbf": {
      "model_module": "@jupyter-widgets/base",
      "model_module_version": "2.0.0",
      "model_name": "LayoutModel",
      "state": {}
     },
     "f1136132bed4470c94d9fbf27c7f7f4b": {
      "model_module": "@jupyter-widgets/controls",
      "model_module_version": "2.0.0",
      "model_name": "TextStyleModel",
      "state": {
       "description_width": "",
       "font_size": null,
       "text_color": null
      }
     },
     "f2d16a791c5c480d8e054ad38dc8ca24": {
      "model_module": "@jupyter-widgets/output",
      "model_module_version": "1.0.0",
      "model_name": "OutputModel",
      "state": {
       "layout": "IPY_MODEL_157d08ec780d4e609e51af349c9b9929",
       "outputs": [
        {
         "name": "stdout",
         "output_type": "stream",
         "text": "Type some text and press ENTER\n"
        }
       ]
      }
     },
     "f73ff2e3571a4e97a01dcdc18d7d885a": {
      "model_module": "@jupyter-widgets/controls",
      "model_module_version": "2.0.0",
      "model_name": "LabelModel",
      "state": {
       "layout": "IPY_MODEL_d603b784ff324373b9f605307feffbdd",
       "style": "IPY_MODEL_b8cdaafe32504b23aaf1706393b4543d",
       "value": "Result: [EntityReference('notebook://second/entity')]"
      }
     },
     "f76b875b163147a9a11d683559e5d205": {
      "model_module": "@jupyter-widgets/base",
      "model_module_version": "2.0.0",
      "model_name": "LayoutModel",
      "state": {}
     },
     "f7c1952d640f4ad3827c4b2ffb0887db": {
      "model_module": "@jupyter-widgets/controls",
      "model_module_version": "2.0.0",
      "model_name": "TextModel",
      "state": {
       "continuous_update": false,
       "layout": "IPY_MODEL_89bc45e9ffd740d391c30bd4e611e941",
       "placeholder": "Enter text...",
       "style": "IPY_MODEL_b328b2a2480b46678de4db77b2e5d9db",
       "value": "some_entity"
      }
     },
     "fb804f26f8d64f4e858ac64435d77afb": {
      "model_module": "@jupyter-widgets/base",
      "model_module_version": "2.0.0",
      "model_name": "LayoutModel",
      "state": {}
     },
     "fe744681e6a344ac97f44f55fd430e9d": {
      "model_module": "@jupyter-widgets/base",
      "model_module_version": "2.0.0",
      "model_name": "LayoutModel",
      "state": {}
     },
     "ff71d9d2f7a54a97ad462299ad253ca6": {
      "model_module": "@jupyter-widgets/controls",
      "model_module_version": "2.0.0",
      "model_name": "LabelModel",
      "state": {
       "layout": "IPY_MODEL_833f5d5b2b084548a611c73e11ea3417",
       "style": "IPY_MODEL_4aaf94e5b0294175b5569ec143666210",
       "value": "From inline: [EntityReference('notebook://some_entity')]"
      }
     }
    },
    "version_major": 2,
    "version_minor": 0
   }
  }
 },
 "nbformat": 4,
 "nbformat_minor": 5
}
